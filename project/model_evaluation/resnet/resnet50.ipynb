{
 "metadata": {
  "language_info": {
   "codemirror_mode": {
    "name": "ipython",
    "version": 3
   },
   "file_extension": ".py",
   "mimetype": "text/x-python",
   "name": "python",
   "nbconvert_exporter": "python",
   "pygments_lexer": "ipython3",
   "version": "3.8.5-final"
  },
  "orig_nbformat": 2,
  "kernelspec": {
   "name": "Python 3.8.5 64-bit ('vscode': conda)",
   "display_name": "Python 3.8.5 64-bit ('vscode': conda)",
   "metadata": {
    "interpreter": {
     "hash": "04b925457cf4a03c6df1b7ce73944d0b33f2acf58d0e02580451fa926ba43981"
    }
   }
  }
 },
 "nbformat": 4,
 "nbformat_minor": 2,
 "cells": [
  {
   "cell_type": "code",
   "execution_count": 1,
   "metadata": {},
   "outputs": [],
   "source": [
    "from tensorflow.keras.applications import ResNet50\n",
    "from tensorflow.keras.models import Sequential\n",
    "from tensorflow.keras.layers import Dense, Flatten, GlobalAveragePooling2D, BatchNormalization\n",
    "from tensorflow.keras.applications.resnet50 import preprocess_input\n",
    "from tensorflow.keras.preprocessing.image import ImageDataGenerator\n",
    "from tensorflow.keras.preprocessing.image import load_img, img_to_array\n",
    "import pandas as pd"
   ]
  },
  {
   "cell_type": "code",
   "execution_count": 2,
   "metadata": {},
   "outputs": [],
   "source": [
    "# Load dataset as dataframe\n",
    "train_df = pd.read_csv(\"txt_files/gender_train.txt\", sep=' ', names=['datadir', 'gender'])\n",
    "test_df = pd.read_csv(\"txt_files/gender_test.txt\", sep=' ', names=['datadir', 'gender'])\n",
    "train_df['datadir'] = 'data/aligned/' + train_df['datadir'].astype(str)\n",
    "test_df['datadir'] = 'data/aligned/' + test_df['datadir'].astype(str)\n",
    "\n"
   ]
  },
  {
   "cell_type": "code",
   "execution_count": 8,
   "metadata": {},
   "outputs": [
    {
     "output_type": "stream",
     "name": "stdout",
     "text": [
      "(12256, 2)\n(4007, 2)\n"
     ]
    }
   ],
   "source": [
    "print(train_df.shape)\n",
    "print(test_df.shape)"
   ]
  },
  {
   "cell_type": "code",
   "execution_count": 7,
   "metadata": {},
   "outputs": [
    {
     "output_type": "execute_result",
     "data": {
      "text/plain": [
       "1    54.569191\n",
       "0    45.430809\n",
       "Name: gender, dtype: float64"
      ]
     },
     "metadata": {},
     "execution_count": 7
    }
   ],
   "source": [
    "train_df['gender'].value_counts() / 12256 * 100"
   ]
  },
  {
   "cell_type": "code",
   "execution_count": 9,
   "metadata": {},
   "outputs": [
    {
     "output_type": "execute_result",
     "data": {
      "text/plain": [
       "0    51.135513\n",
       "1    48.864487\n",
       "Name: gender, dtype: float64"
      ]
     },
     "metadata": {},
     "execution_count": 9
    }
   ],
   "source": [
    "test_df['gender'].value_counts() / 4007 * 100"
   ]
  },
  {
   "cell_type": "code",
   "execution_count": null,
   "metadata": {},
   "outputs": [],
   "source": [
    "\n",
    "# Hyperparameters\n",
    "batch_size = 128\n",
    "# Load images into keras image generator \n",
    "datagen_train = ImageDataGenerator(rescale=1./255)\n",
    "datagen_valid = ImageDataGenerator(rescale=1./255)\n",
    "# For train generator\n",
    "train_generator = datagen_train.flow_from_dataframe(\n",
    "    dataframe = train_df,\n",
    "    directory=None,\n",
    "    x_col=\"datadir\",\n",
    "    y_col=\"gender\",\n",
    "    batch_size=batch_size,\n",
    "    seed=42,\n",
    "    shuffle=True,\n",
    "    class_mode='raw',\n",
    "    target_size=(224,224))\n",
    "# For test generator \n",
    "valid_generator = datagen_valid.flow_from_dataframe(\n",
    "    dataframe = test_df,\n",
    "    directory=None,\n",
    "    x_col=\"datadir\",\n",
    "    y_col=\"gender\",\n",
    "    batch_size=batch_size,\n",
    "    seed=42,\n",
    "    shuffle=True,\n",
    "    class_mode='raw',\n",
    "    target_size=(224,224))"
   ]
  },
  {
   "cell_type": "code",
   "execution_count": 5,
   "metadata": {},
   "outputs": [
    {
     "output_type": "stream",
     "name": "stdout",
     "text": [
      "Model: \"sequential\"\n_________________________________________________________________\nLayer (type)                 Output Shape              Param #   \n=================================================================\nresnet50 (Functional)        (None, 2048)              23587712  \n_________________________________________________________________\nflatten (Flatten)            (None, 2048)              0         \n_________________________________________________________________\nbatch_normalization (BatchNo (None, 2048)              8192      \n_________________________________________________________________\ndense (Dense)                (None, 2048)              4196352   \n_________________________________________________________________\nbatch_normalization_1 (Batch (None, 2048)              8192      \n_________________________________________________________________\ndense_1 (Dense)              (None, 1024)              2098176   \n_________________________________________________________________\nbatch_normalization_2 (Batch (None, 1024)              4096      \n_________________________________________________________________\ndense_2 (Dense)              (None, 1)                 1025      \n=================================================================\nTotal params: 29,903,745\nTrainable params: 6,305,793\nNon-trainable params: 23,597,952\n_________________________________________________________________\n"
     ]
    }
   ],
   "source": [
    "model = Sequential()\n",
    "model.add(ResNet50(include_top=False, pooling='avg', weights='imagenet'))\n",
    "model.add(Flatten())\n",
    "model.add(BatchNormalization())\n",
    "model.add(Dense(2048, activation='relu'))\n",
    "model.add(BatchNormalization())\n",
    "model.add(Dense(1024, activation='relu'))\n",
    "model.add(BatchNormalization())\n",
    "model.add(Dense(1, activation='softmax'))\n",
    "model.layers[0].trainable = False\n",
    "model.summary()"
   ]
  },
  {
   "cell_type": "code",
   "execution_count": 4,
   "metadata": {},
   "outputs": [],
   "source": [
    "# Compile model \n",
    "model.compile(\n",
    "    optimizer='Adam',\n",
    "    loss='binary_crossentropy',\n",
    "    metrics=['accuracy'],\n",
    ")"
   ]
  },
  {
   "cell_type": "code",
   "execution_count": 5,
   "metadata": {},
   "outputs": [
    {
     "output_type": "stream",
     "name": "stdout",
     "text": [
      "Epoch 1/10\n",
      " 2/96 [..............................] - ETA: 11:03 - loss: 7.2672 - accuracy: 0.5234"
     ]
    }
   ],
   "source": [
    "model.fit(train_generator, epochs=10, validation_data=valid_generator)\n",
    "# model.save_weights('second_model.h5') "
   ]
  }
 ]
}