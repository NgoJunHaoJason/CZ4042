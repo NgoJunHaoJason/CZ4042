{
  "nbformat": 4,
  "nbformat_minor": 0,
  "metadata": {
    "language_info": {
      "codemirror_mode": {
        "name": "ipython",
        "version": 3
      },
      "file_extension": ".py",
      "mimetype": "text/x-python",
      "name": "python",
      "nbconvert_exporter": "python",
      "pygments_lexer": "ipython3",
      "version": "3.8.3-final"
    },
    "orig_nbformat": 2,
    "kernelspec": {
      "name": "python38364bitaivenvcondaf74d87cbcd1c41a2a9ab01eaafaa18b6",
      "display_name": "Python 3.8.3 64-bit ('ai_venv': conda)"
    },
    "colab": {
      "name": "mobilenet_v2.ipynb",
      "provenance": [],
      "collapsed_sections": []
    },
    "accelerator": "GPU",
    "widgets": {
      "application/vnd.jupyter.widget-state+json": {
        "6e1af60d1c6d498bb63fd6cedad1e1ae": {
          "model_module": "@jupyter-widgets/controls",
          "model_name": "VBoxModel",
          "state": {
            "_view_name": "VBoxView",
            "_dom_classes": [],
            "_model_name": "VBoxModel",
            "_view_module": "@jupyter-widgets/controls",
            "_model_module_version": "1.5.0",
            "_view_count": null,
            "_view_module_version": "1.5.0",
            "box_style": "",
            "layout": "IPY_MODEL_fce1c0784b86485fb828860d4f3b5ef9",
            "_model_module": "@jupyter-widgets/controls",
            "children": [
              "IPY_MODEL_8bdcb1f2d7144b7ba31222ba71d68144",
              "IPY_MODEL_4a7cbbdefb3f45d986b88878bef8493b"
            ]
          }
        },
        "fce1c0784b86485fb828860d4f3b5ef9": {
          "model_module": "@jupyter-widgets/base",
          "model_name": "LayoutModel",
          "state": {
            "_view_name": "LayoutView",
            "grid_template_rows": null,
            "right": null,
            "justify_content": null,
            "_view_module": "@jupyter-widgets/base",
            "overflow": null,
            "_model_module_version": "1.2.0",
            "_view_count": null,
            "flex_flow": null,
            "width": null,
            "min_width": null,
            "border": null,
            "align_items": null,
            "bottom": null,
            "_model_module": "@jupyter-widgets/base",
            "top": null,
            "grid_column": null,
            "overflow_y": null,
            "overflow_x": null,
            "grid_auto_flow": null,
            "grid_area": null,
            "grid_template_columns": null,
            "flex": null,
            "_model_name": "LayoutModel",
            "justify_items": null,
            "grid_row": null,
            "max_height": null,
            "align_content": null,
            "visibility": null,
            "align_self": null,
            "height": null,
            "min_height": null,
            "padding": null,
            "grid_auto_rows": null,
            "grid_gap": null,
            "max_width": null,
            "order": null,
            "_view_module_version": "1.2.0",
            "grid_template_areas": null,
            "object_position": null,
            "object_fit": null,
            "grid_auto_columns": null,
            "margin": null,
            "display": null,
            "left": null
          }
        },
        "8bdcb1f2d7144b7ba31222ba71d68144": {
          "model_module": "@jupyter-widgets/controls",
          "model_name": "LabelModel",
          "state": {
            "_view_name": "LabelView",
            "style": "IPY_MODEL_ae6981c36106473fa2d8d38f86771734",
            "_dom_classes": [],
            "description": "",
            "_model_name": "LabelModel",
            "placeholder": "​",
            "_view_module": "@jupyter-widgets/controls",
            "_model_module_version": "1.5.0",
            "value": " 33.35MB of 33.35MB uploaded (0.00MB deduped)\r",
            "_view_count": null,
            "_view_module_version": "1.5.0",
            "description_tooltip": null,
            "_model_module": "@jupyter-widgets/controls",
            "layout": "IPY_MODEL_8718eb8e802247c684c94e42075e4aef"
          }
        },
        "4a7cbbdefb3f45d986b88878bef8493b": {
          "model_module": "@jupyter-widgets/controls",
          "model_name": "FloatProgressModel",
          "state": {
            "_view_name": "ProgressView",
            "style": "IPY_MODEL_e751ac749c1f440193b9d678a8703ba5",
            "_dom_classes": [],
            "description": "",
            "_model_name": "FloatProgressModel",
            "bar_style": "",
            "max": 1,
            "_view_module": "@jupyter-widgets/controls",
            "_model_module_version": "1.5.0",
            "value": 1,
            "_view_count": null,
            "_view_module_version": "1.5.0",
            "orientation": "horizontal",
            "min": 0,
            "description_tooltip": null,
            "_model_module": "@jupyter-widgets/controls",
            "layout": "IPY_MODEL_2b81ea5161894a4996701cd828e882f1"
          }
        },
        "ae6981c36106473fa2d8d38f86771734": {
          "model_module": "@jupyter-widgets/controls",
          "model_name": "DescriptionStyleModel",
          "state": {
            "_view_name": "StyleView",
            "_model_name": "DescriptionStyleModel",
            "description_width": "",
            "_view_module": "@jupyter-widgets/base",
            "_model_module_version": "1.5.0",
            "_view_count": null,
            "_view_module_version": "1.2.0",
            "_model_module": "@jupyter-widgets/controls"
          }
        },
        "8718eb8e802247c684c94e42075e4aef": {
          "model_module": "@jupyter-widgets/base",
          "model_name": "LayoutModel",
          "state": {
            "_view_name": "LayoutView",
            "grid_template_rows": null,
            "right": null,
            "justify_content": null,
            "_view_module": "@jupyter-widgets/base",
            "overflow": null,
            "_model_module_version": "1.2.0",
            "_view_count": null,
            "flex_flow": null,
            "width": null,
            "min_width": null,
            "border": null,
            "align_items": null,
            "bottom": null,
            "_model_module": "@jupyter-widgets/base",
            "top": null,
            "grid_column": null,
            "overflow_y": null,
            "overflow_x": null,
            "grid_auto_flow": null,
            "grid_area": null,
            "grid_template_columns": null,
            "flex": null,
            "_model_name": "LayoutModel",
            "justify_items": null,
            "grid_row": null,
            "max_height": null,
            "align_content": null,
            "visibility": null,
            "align_self": null,
            "height": null,
            "min_height": null,
            "padding": null,
            "grid_auto_rows": null,
            "grid_gap": null,
            "max_width": null,
            "order": null,
            "_view_module_version": "1.2.0",
            "grid_template_areas": null,
            "object_position": null,
            "object_fit": null,
            "grid_auto_columns": null,
            "margin": null,
            "display": null,
            "left": null
          }
        },
        "e751ac749c1f440193b9d678a8703ba5": {
          "model_module": "@jupyter-widgets/controls",
          "model_name": "ProgressStyleModel",
          "state": {
            "_view_name": "StyleView",
            "_model_name": "ProgressStyleModel",
            "description_width": "",
            "_view_module": "@jupyter-widgets/base",
            "_model_module_version": "1.5.0",
            "_view_count": null,
            "_view_module_version": "1.2.0",
            "bar_color": null,
            "_model_module": "@jupyter-widgets/controls"
          }
        },
        "2b81ea5161894a4996701cd828e882f1": {
          "model_module": "@jupyter-widgets/base",
          "model_name": "LayoutModel",
          "state": {
            "_view_name": "LayoutView",
            "grid_template_rows": null,
            "right": null,
            "justify_content": null,
            "_view_module": "@jupyter-widgets/base",
            "overflow": null,
            "_model_module_version": "1.2.0",
            "_view_count": null,
            "flex_flow": null,
            "width": null,
            "min_width": null,
            "border": null,
            "align_items": null,
            "bottom": null,
            "_model_module": "@jupyter-widgets/base",
            "top": null,
            "grid_column": null,
            "overflow_y": null,
            "overflow_x": null,
            "grid_auto_flow": null,
            "grid_area": null,
            "grid_template_columns": null,
            "flex": null,
            "_model_name": "LayoutModel",
            "justify_items": null,
            "grid_row": null,
            "max_height": null,
            "align_content": null,
            "visibility": null,
            "align_self": null,
            "height": null,
            "min_height": null,
            "padding": null,
            "grid_auto_rows": null,
            "grid_gap": null,
            "max_width": null,
            "order": null,
            "_view_module_version": "1.2.0",
            "grid_template_areas": null,
            "object_position": null,
            "object_fit": null,
            "grid_auto_columns": null,
            "margin": null,
            "display": null,
            "left": null
          }
        }
      }
    }
  },
  "cells": [
    {
      "cell_type": "markdown",
      "metadata": {
        "id": "_sfNF0kYI8k9"
      },
      "source": [
        "# Evaluate MobileNet V2"
      ]
    },
    {
      "cell_type": "markdown",
      "metadata": {
        "id": "R7xY0uK2uRj-"
      },
      "source": [
        "Install Weights and Biases since it is not in Google Colab by default"
      ]
    },
    {
      "cell_type": "code",
      "metadata": {
        "id": "2VDeRkERuQhL"
      },
      "source": [
        "!pip install wandb -qqq"
      ],
      "execution_count": 1,
      "outputs": []
    },
    {
      "cell_type": "markdown",
      "metadata": {
        "id": "Lb0Nrx_PI8k_"
      },
      "source": [
        "Import relevant libraries"
      ]
    },
    {
      "cell_type": "code",
      "metadata": {
        "id": "ZOjpoGpTI8lC"
      },
      "source": [
        "from google.colab import drive\n",
        "from sklearn.model_selection import train_test_split\n",
        "from tensorflow.keras.applications.resnet50 import preprocess_input\n",
        "from tensorflow.keras.preprocessing.image import ImageDataGenerator\n",
        "from tensorflow.keras.preprocessing.image import load_img, img_to_array\n",
        "\n",
        "import pandas as pd\n",
        "import tensorflow as tf\n",
        "import wandb"
      ],
      "execution_count": 2,
      "outputs": []
    },
    {
      "cell_type": "markdown",
      "metadata": {
        "id": "6wYPHGqdujr8"
      },
      "source": [
        "Mount Google Drive to access images"
      ]
    },
    {
      "cell_type": "code",
      "metadata": {
        "id": "k7kOMBw5JkMo",
        "outputId": "a2c955a6-60e1-4b41-e9e1-d45a69c95919",
        "colab": {
          "base_uri": "https://localhost:8080/"
        }
      },
      "source": [
        "drive.mount('/content/drive')"
      ],
      "execution_count": 3,
      "outputs": [
        {
          "output_type": "stream",
          "text": [
            "Drive already mounted at /content/drive; to attempt to forcibly remount, call drive.mount(\"/content/drive\", force_remount=True).\n"
          ],
          "name": "stdout"
        }
      ]
    },
    {
      "cell_type": "code",
      "metadata": {
        "id": "1zTdM156I8lQ",
        "outputId": "607abf75-bead-493b-b0a0-084026e6af7d",
        "colab": {
          "base_uri": "https://localhost:8080/"
        }
      },
      "source": [
        "wandb.login()"
      ],
      "execution_count": 4,
      "outputs": [
        {
          "output_type": "stream",
          "text": [
            "\u001b[34m\u001b[1mwandb\u001b[0m: Currently logged in as: \u001b[33mburntice\u001b[0m (use `wandb login --relogin` to force relogin)\n"
          ],
          "name": "stderr"
        },
        {
          "output_type": "execute_result",
          "data": {
            "text/plain": [
              "True"
            ]
          },
          "metadata": {
            "tags": []
          },
          "execution_count": 4
        }
      ]
    },
    {
      "cell_type": "code",
      "metadata": {
        "id": "7VrwyDNfI8lZ",
        "outputId": "93a68eca-2d0c-486f-83a3-44ae33e8daa8",
        "colab": {
          "base_uri": "https://localhost:8080/",
          "height": 121
        }
      },
      "source": [
        "# Initialise Weights and Biases API\n",
        "# Hyperparameters\n",
        "\n",
        "# previous config:\n",
        "# config={\n",
        "#     'batch_size': 128,  # tried 64, 256\n",
        "#     'epochs': 10,  # tried 20\n",
        "#     'seed': 0,  # tried 42\n",
        "#     'learning_rate': 0.0001,  # tried 0.001, 0.00005\n",
        "#     'dropout_rate': 0.2,  # tried 0.5 and no dropout\n",
        "#     'bn_momentum': 0.9,  # tried default of 0.99\n",
        "#     'fc1_num_neurons': 1024,\n",
        "#     'fc2_num_neurons': 512,\n",
        "#     'fc3_num_neurons': 256,\n",
        "#     'hidden_activation': 'relu',\n",
        "#     'output_activation': 'sigmoid',  # tried softmax\n",
        "#     'loss_function': 'binary_crossentropy',\n",
        "#     'metrics': ['accuracy'],\n",
        "# }\n",
        "\n",
        "# tried sgd\n",
        "# tried splitting data into train-val-test instead of using test set as val set\n",
        "\n",
        "defaults = {\n",
        "    'epochs': 20,\n",
        "    'batch_size': 128,\n",
        "    'fc1_num_neurons': 1024,\n",
        "    'fc2_num_neurons': 512,\n",
        "    'fc3_num_neurons': 256,\n",
        "    'seed': 7,\n",
        "    'learning_rate': 1e-3,\n",
        "    'optimizer': 'adam',\n",
        "    'hidden_activation': 'relu',\n",
        "    'output_activation': 'sigmoid',\n",
        "    'loss_function': 'binary_crossentropy',\n",
        "    'metrics': ['accuracy'],\n",
        "}\n",
        "\n",
        "run = wandb.init(\n",
        "    name='mobilenet_v2',\n",
        "    project='cz4042',\n",
        "    config=defaults,\n",
        ")\n",
        "\n",
        "config = wandb.config"
      ],
      "execution_count": 5,
      "outputs": [
        {
          "output_type": "display_data",
          "data": {
            "text/html": [
              "\n",
              "                Tracking run with wandb version 0.10.8<br/>\n",
              "                Syncing run <strong style=\"color:#cdcd00\">mobilenet_v2</strong> to <a href=\"https://wandb.ai\" target=\"_blank\">Weights & Biases</a> <a href=\"https://docs.wandb.com/integrations/jupyter.html\" target=\"_blank\">(Documentation)</a>.<br/>\n",
              "                Project page: <a href=\"https://wandb.ai/burntice/cz4042\" target=\"_blank\">https://wandb.ai/burntice/cz4042</a><br/>\n",
              "                Run page: <a href=\"https://wandb.ai/burntice/cz4042/runs/3rxd29ap\" target=\"_blank\">https://wandb.ai/burntice/cz4042/runs/3rxd29ap</a><br/>\n",
              "                Run data is saved locally in <code>wandb/run-20201103_095700-3rxd29ap</code><br/><br/>\n",
              "            "
            ],
            "text/plain": [
              "<IPython.core.display.HTML object>"
            ]
          },
          "metadata": {
            "tags": []
          }
        }
      ]
    },
    {
      "cell_type": "markdown",
      "metadata": {
        "id": "JrTnZ7eLI8lq"
      },
      "source": [
        "Load data"
      ]
    },
    {
      "cell_type": "code",
      "metadata": {
        "id": "3ygPyv8yI8ls"
      },
      "source": [
        "project_dir_path = '/content/drive/My Drive/Adience/'\n",
        "data_file_path = project_dir_path + 'aligned_gender.csv'\n",
        "\n",
        "\n",
        "dataframe = pd.read_csv(data_file_path, sep=',', names=['image_path', 'gender'])\n",
        "dataframe['image_path'] = project_dir_path + dataframe['image_path'].astype(str)"
      ],
      "execution_count": 6,
      "outputs": []
    },
    {
      "cell_type": "code",
      "metadata": {
        "id": "i3ldJP7II8ly",
        "outputId": "6d64b41f-7e4a-4d9e-8966-53c9ce07798b",
        "colab": {
          "base_uri": "https://localhost:8080/",
          "height": 206
        }
      },
      "source": [
        "# confirm dataframe is ok\n",
        "dataframe.head()"
      ],
      "execution_count": 7,
      "outputs": [
        {
          "output_type": "execute_result",
          "data": {
            "text/html": [
              "<div>\n",
              "<style scoped>\n",
              "    .dataframe tbody tr th:only-of-type {\n",
              "        vertical-align: middle;\n",
              "    }\n",
              "\n",
              "    .dataframe tbody tr th {\n",
              "        vertical-align: top;\n",
              "    }\n",
              "\n",
              "    .dataframe thead th {\n",
              "        text-align: right;\n",
              "    }\n",
              "</style>\n",
              "<table border=\"1\" class=\"dataframe\">\n",
              "  <thead>\n",
              "    <tr style=\"text-align: right;\">\n",
              "      <th></th>\n",
              "      <th>image_path</th>\n",
              "      <th>gender</th>\n",
              "    </tr>\n",
              "  </thead>\n",
              "  <tbody>\n",
              "    <tr>\n",
              "      <th>0</th>\n",
              "      <td>/content/drive/My Drive/Adience/aligned/306012...</td>\n",
              "      <td>1</td>\n",
              "    </tr>\n",
              "    <tr>\n",
              "      <th>1</th>\n",
              "      <td>/content/drive/My Drive/Adience/aligned/306012...</td>\n",
              "      <td>1</td>\n",
              "    </tr>\n",
              "    <tr>\n",
              "      <th>2</th>\n",
              "      <td>/content/drive/My Drive/Adience/aligned/306012...</td>\n",
              "      <td>1</td>\n",
              "    </tr>\n",
              "    <tr>\n",
              "      <th>3</th>\n",
              "      <td>/content/drive/My Drive/Adience/aligned/306012...</td>\n",
              "      <td>0</td>\n",
              "    </tr>\n",
              "    <tr>\n",
              "      <th>4</th>\n",
              "      <td>/content/drive/My Drive/Adience/aligned/306012...</td>\n",
              "      <td>1</td>\n",
              "    </tr>\n",
              "  </tbody>\n",
              "</table>\n",
              "</div>"
            ],
            "text/plain": [
              "                                          image_path  gender\n",
              "0  /content/drive/My Drive/Adience/aligned/306012...       1\n",
              "1  /content/drive/My Drive/Adience/aligned/306012...       1\n",
              "2  /content/drive/My Drive/Adience/aligned/306012...       1\n",
              "3  /content/drive/My Drive/Adience/aligned/306012...       0\n",
              "4  /content/drive/My Drive/Adience/aligned/306012...       1"
            ]
          },
          "metadata": {
            "tags": []
          },
          "execution_count": 7
        }
      ]
    },
    {
      "cell_type": "code",
      "metadata": {
        "id": "ltBjnYHUI8l5",
        "outputId": "59083245-98d5-4c38-f6eb-3ec3fe529a09",
        "colab": {
          "base_uri": "https://localhost:8080/"
        }
      },
      "source": [
        "# check number of data in dataframe\n",
        "dataframe.shape"
      ],
      "execution_count": 8,
      "outputs": [
        {
          "output_type": "execute_result",
          "data": {
            "text/plain": [
              "(12194, 2)"
            ]
          },
          "metadata": {
            "tags": []
          },
          "execution_count": 8
        }
      ]
    },
    {
      "cell_type": "code",
      "metadata": {
        "id": "_UtmLIRhI8l_",
        "outputId": "dd908aca-2886-4cb4-eb4c-fa0204b2d2a8",
        "colab": {
          "base_uri": "https://localhost:8080/"
        }
      },
      "source": [
        "# check percentage of gender in data\n",
        "dataframe['gender'].value_counts() / dataframe.shape[0] * 100"
      ],
      "execution_count": 9,
      "outputs": [
        {
          "output_type": "execute_result",
          "data": {
            "text/plain": [
              "0    52.665245\n",
              "1    47.334755\n",
              "Name: gender, dtype: float64"
            ]
          },
          "metadata": {
            "tags": []
          },
          "execution_count": 9
        }
      ]
    },
    {
      "cell_type": "markdown",
      "metadata": {
        "id": "gblXRK4QI8mF"
      },
      "source": [
        "Not very imbalanced; good\n",
        "\n",
        "Split data into train-validation-test"
      ]
    },
    {
      "cell_type": "code",
      "metadata": {
        "id": "3eIPiDd4I8mH"
      },
      "source": [
        "train_df, test_df = train_test_split(\n",
        "    dataframe,\n",
        "    test_size=0.2,\n",
        "    random_state=config.seed,\n",
        ")"
      ],
      "execution_count": 10,
      "outputs": []
    },
    {
      "cell_type": "code",
      "metadata": {
        "id": "JhvXWLBnI8mY",
        "outputId": "7a3c378f-9491-4eeb-bf56-b471c04dcd39",
        "colab": {
          "base_uri": "https://localhost:8080/"
        }
      },
      "source": [
        "print(train_df.shape)\n",
        "print(test_df.shape)"
      ],
      "execution_count": 11,
      "outputs": [
        {
          "output_type": "stream",
          "text": [
            "(9755, 2)\n",
            "(2439, 2)\n"
          ],
          "name": "stdout"
        }
      ]
    },
    {
      "cell_type": "code",
      "metadata": {
        "id": "CYfCGyzDI8me",
        "outputId": "2484a02f-e544-4f13-c3df-fe62a3042873",
        "colab": {
          "base_uri": "https://localhost:8080/"
        }
      },
      "source": [
        "train_df['gender'].value_counts() / train_df.shape[0] * 100"
      ],
      "execution_count": 12,
      "outputs": [
        {
          "output_type": "execute_result",
          "data": {
            "text/plain": [
              "0    52.598667\n",
              "1    47.401333\n",
              "Name: gender, dtype: float64"
            ]
          },
          "metadata": {
            "tags": []
          },
          "execution_count": 12
        }
      ]
    },
    {
      "cell_type": "code",
      "metadata": {
        "id": "xcWhsvY_I8mj",
        "outputId": "afb3baa4-b6a3-457f-d52e-1221ce3756b2",
        "colab": {
          "base_uri": "https://localhost:8080/"
        }
      },
      "source": [
        "# Load images into keras image generator \n",
        "datagen_train = ImageDataGenerator(\n",
        "    preprocessing_function=tf.keras.applications.mobilenet_v2.preprocess_input,\n",
        ")\n",
        "datagen_test = ImageDataGenerator(\n",
        "    preprocessing_function=tf.keras.applications.mobilenet_v2.preprocess_input,\n",
        ")\n",
        "\n",
        "train_generator = datagen_train.flow_from_dataframe(\n",
        "    dataframe=train_df,\n",
        "    # directory=project_dir_path,\n",
        "    x_col='image_path',\n",
        "    y_col='gender',\n",
        "    batch_size=config.batch_size,\n",
        "    seed=config.seed,\n",
        "    shuffle=True,\n",
        "    class_mode='raw',\n",
        "    target_size=(224,224),\n",
        ")\n",
        "\n",
        "test_generator = datagen_test.flow_from_dataframe(\n",
        "    dataframe=test_df,\n",
        "    # directory=project_dir_path,\n",
        "    x_col='image_path',\n",
        "    y_col='gender',\n",
        "    batch_size=config.batch_size,\n",
        "    seed=config.seed,\n",
        "    shuffle=True,\n",
        "    class_mode='raw',\n",
        "    target_size=(224,224),\n",
        ")"
      ],
      "execution_count": 13,
      "outputs": [
        {
          "output_type": "stream",
          "text": [
            "Found 9755 validated image filenames.\n",
            "Found 2439 validated image filenames.\n"
          ],
          "name": "stdout"
        }
      ]
    },
    {
      "cell_type": "code",
      "metadata": {
        "id": "B4PGyCJQI8mp",
        "outputId": "8a37a4a7-29a8-443c-df5f-310a9d43e7db",
        "colab": {
          "base_uri": "https://localhost:8080/"
        }
      },
      "source": [
        "mobile_net_v2 = tf.keras.applications.MobileNetV2(\n",
        "    include_top=False,\n",
        "    pooling='avg',\n",
        "    weights='imagenet',\n",
        "    input_shape=(224,224,3),\n",
        ")\n",
        "mobile_net_v2.trainable = False\n",
        "\n",
        "fc1 = tf.keras.layers.Dense(\n",
        "    config.fc1_num_neurons,\n",
        "    activation=config.hidden_activation,\n",
        ")\n",
        "\n",
        "fc2 = tf.keras.layers.Dense(\n",
        "    config.fc2_num_neurons,\n",
        "    activation=config.hidden_activation,\n",
        ")\n",
        "\n",
        "fc3 = tf.keras.layers.Dense(\n",
        "    config.fc2_num_neurons,\n",
        "    activation=config.hidden_activation,\n",
        ")\n",
        "\n",
        "model = tf.keras.models.Sequential([\n",
        "    mobile_net_v2,\n",
        "    tf.keras.layers.Flatten(),\n",
        "    tf.keras.layers.BatchNormalization(),\n",
        "    fc1,\n",
        "    tf.keras.layers.BatchNormalization(),\n",
        "    fc2,\n",
        "    tf.keras.layers.BatchNormalization(),\n",
        "    fc3,\n",
        "    tf.keras.layers.BatchNormalization(),\n",
        "    tf.keras.layers.Dense(1, activation=config.output_activation),\n",
        "])\n",
        "\n",
        "model.summary()"
      ],
      "execution_count": 14,
      "outputs": [
        {
          "output_type": "stream",
          "text": [
            "Model: \"sequential\"\n",
            "_________________________________________________________________\n",
            "Layer (type)                 Output Shape              Param #   \n",
            "=================================================================\n",
            "mobilenetv2_1.00_224 (Functi (None, 1280)              2257984   \n",
            "_________________________________________________________________\n",
            "flatten (Flatten)            (None, 1280)              0         \n",
            "_________________________________________________________________\n",
            "batch_normalization (BatchNo (None, 1280)              5120      \n",
            "_________________________________________________________________\n",
            "dense (Dense)                (None, 1024)              1311744   \n",
            "_________________________________________________________________\n",
            "batch_normalization_1 (Batch (None, 1024)              4096      \n",
            "_________________________________________________________________\n",
            "dense_1 (Dense)              (None, 512)               524800    \n",
            "_________________________________________________________________\n",
            "batch_normalization_2 (Batch (None, 512)               2048      \n",
            "_________________________________________________________________\n",
            "dense_2 (Dense)              (None, 512)               262656    \n",
            "_________________________________________________________________\n",
            "batch_normalization_3 (Batch (None, 512)               2048      \n",
            "_________________________________________________________________\n",
            "dense_3 (Dense)              (None, 1)                 513       \n",
            "=================================================================\n",
            "Total params: 4,371,009\n",
            "Trainable params: 2,106,369\n",
            "Non-trainable params: 2,264,640\n",
            "_________________________________________________________________\n"
          ],
          "name": "stdout"
        }
      ]
    },
    {
      "cell_type": "code",
      "metadata": {
        "id": "pDoLLlhAI8mu"
      },
      "source": [
        "# Compile model \n",
        "model.compile(\n",
        "    optimizer=tf.keras.optimizers.Adam(learning_rate=config.learning_rate),\n",
        "    loss=config.loss_function,\n",
        "    metrics=config.metrics,\n",
        ")"
      ],
      "execution_count": 15,
      "outputs": []
    },
    {
      "cell_type": "markdown",
      "metadata": {
        "id": "-9JESQkW9FED"
      },
      "source": [
        "Define callbacks for logging and saving weights while training."
      ]
    },
    {
      "cell_type": "code",
      "metadata": {
        "id": "eqfkI-ZA9I4b"
      },
      "source": [
        "log_callback = wandb.keras.WandbCallback()\n",
        "\n",
        "checkpoint_dir_path = project_dir_path + 'checkpoints/'\n",
        "cp_callback = tf.keras.callbacks.ModelCheckpoint(\n",
        "    filepath=(checkpoint_dir_path + 'cp-{epoch:02d}-{val_loss:.2f}.h5'),\n",
        "    save_weights_only=True,\n",
        "    save_best_only=True,\n",
        "    monitor='val_loss',\n",
        ")"
      ],
      "execution_count": 16,
      "outputs": []
    },
    {
      "cell_type": "code",
      "metadata": {
        "id": "I5om-0ByI8mz",
        "outputId": "7e353d48-9865-438e-ead7-1bbcdf4bfa8e",
        "colab": {
          "base_uri": "https://localhost:8080/"
        }
      },
      "source": [
        "%%time\n",
        "model.fit(\n",
        "    train_generator,\n",
        "    validation_data=test_generator,\n",
        "    epochs=config.epochs,\n",
        "    callbacks=[log_callback, cp_callback],\n",
        ")\n",
        "model.save_weights('baseline_mobilenetv2_model.h5') "
      ],
      "execution_count": 17,
      "outputs": [
        {
          "output_type": "stream",
          "text": [
            "Epoch 1/20\n",
            "77/77 [==============================] - 2933s 38s/step - loss: 0.4382 - accuracy: 0.8194 - val_loss: 0.3473 - val_accuracy: 0.8479\n",
            "Epoch 2/20\n",
            "77/77 [==============================] - 132s 2s/step - loss: 0.1537 - accuracy: 0.9444 - val_loss: 0.3307 - val_accuracy: 0.8577\n",
            "Epoch 3/20\n",
            "77/77 [==============================] - 130s 2s/step - loss: 0.0762 - accuracy: 0.9730 - val_loss: 0.3162 - val_accuracy: 0.8754\n",
            "Epoch 4/20\n",
            "77/77 [==============================] - 130s 2s/step - loss: 0.0525 - accuracy: 0.9820 - val_loss: 0.3591 - val_accuracy: 0.8766\n",
            "Epoch 5/20\n",
            "77/77 [==============================] - 129s 2s/step - loss: 0.0445 - accuracy: 0.9858 - val_loss: 0.3826 - val_accuracy: 0.8872\n",
            "Epoch 6/20\n",
            "77/77 [==============================] - 130s 2s/step - loss: 0.0450 - accuracy: 0.9829 - val_loss: 0.4421 - val_accuracy: 0.8717\n",
            "Epoch 7/20\n",
            "77/77 [==============================] - 129s 2s/step - loss: 0.0597 - accuracy: 0.9788 - val_loss: 0.4227 - val_accuracy: 0.8758\n",
            "Epoch 8/20\n",
            "77/77 [==============================] - 128s 2s/step - loss: 0.0388 - accuracy: 0.9866 - val_loss: 0.4451 - val_accuracy: 0.8819\n",
            "Epoch 9/20\n",
            "77/77 [==============================] - 129s 2s/step - loss: 0.0273 - accuracy: 0.9921 - val_loss: 0.4957 - val_accuracy: 0.8881\n",
            "Epoch 10/20\n",
            "77/77 [==============================] - 130s 2s/step - loss: 0.0209 - accuracy: 0.9932 - val_loss: 0.5434 - val_accuracy: 0.8918\n",
            "Epoch 11/20\n",
            "77/77 [==============================] - 129s 2s/step - loss: 0.0174 - accuracy: 0.9941 - val_loss: 0.5210 - val_accuracy: 0.8827\n",
            "Epoch 12/20\n",
            "77/77 [==============================] - 128s 2s/step - loss: 0.0182 - accuracy: 0.9940 - val_loss: 0.5187 - val_accuracy: 0.8823\n",
            "Epoch 13/20\n",
            "77/77 [==============================] - 130s 2s/step - loss: 0.0494 - accuracy: 0.9826 - val_loss: 0.5077 - val_accuracy: 0.8827\n",
            "Epoch 14/20\n",
            "77/77 [==============================] - 129s 2s/step - loss: 0.0362 - accuracy: 0.9859 - val_loss: 0.6247 - val_accuracy: 0.8725\n",
            "Epoch 15/20\n",
            "77/77 [==============================] - 129s 2s/step - loss: 0.0328 - accuracy: 0.9888 - val_loss: 0.4949 - val_accuracy: 0.8831\n",
            "Epoch 16/20\n",
            "77/77 [==============================] - 130s 2s/step - loss: 0.0170 - accuracy: 0.9941 - val_loss: 0.4927 - val_accuracy: 0.8897\n",
            "Epoch 17/20\n",
            "77/77 [==============================] - 128s 2s/step - loss: 0.0105 - accuracy: 0.9970 - val_loss: 0.5412 - val_accuracy: 0.8852\n",
            "Epoch 18/20\n",
            "77/77 [==============================] - 128s 2s/step - loss: 0.0183 - accuracy: 0.9938 - val_loss: 0.5126 - val_accuracy: 0.8909\n",
            "Epoch 19/20\n",
            "77/77 [==============================] - 127s 2s/step - loss: 0.0101 - accuracy: 0.9971 - val_loss: 0.4794 - val_accuracy: 0.8922\n",
            "Epoch 20/20\n",
            "77/77 [==============================] - 127s 2s/step - loss: 0.0071 - accuracy: 0.9974 - val_loss: 0.5616 - val_accuracy: 0.8852\n",
            "CPU times: user 40min 44s, sys: 1min 16s, total: 42min 1s\n",
            "Wall time: 1h 31min 26s\n"
          ],
          "name": "stdout"
        }
      ]
    },
    {
      "cell_type": "markdown",
      "metadata": {
        "id": "rxFDiRFtTG4k"
      },
      "source": [
        "Evaluate on test set"
      ]
    },
    {
      "cell_type": "code",
      "metadata": {
        "id": "r57bujqaTJPf",
        "outputId": "d6fa1c90-9e09-4c55-face-bf661c0dd8c3",
        "colab": {
          "base_uri": "https://localhost:8080/"
        }
      },
      "source": [
        "%%time\n",
        "results = model.evaluate(\n",
        "    test_generator,\n",
        "    batch_size=config.batch_size,\n",
        "    callbacks=[log_callback],\n",
        ")"
      ],
      "execution_count": 18,
      "outputs": [
        {
          "output_type": "stream",
          "text": [
            "20/20 [==============================] - 25s 1s/step - loss: 0.5616 - accuracy: 0.8852\n",
            "CPU times: user 25.4 s, sys: 905 ms, total: 26.4 s\n",
            "Wall time: 27.7 s\n"
          ],
          "name": "stdout"
        }
      ]
    },
    {
      "cell_type": "markdown",
      "metadata": {
        "id": "bflDmmTjI8m3"
      },
      "source": [
        "Let Weights and Biases know that this run is complete."
      ]
    },
    {
      "cell_type": "code",
      "metadata": {
        "id": "XWGF0o3oI8m4",
        "outputId": "dfd39563-3aaf-4ef7-9fa3-be76ceca3197",
        "colab": {
          "base_uri": "https://localhost:8080/",
          "height": 678,
          "referenced_widgets": [
            "6e1af60d1c6d498bb63fd6cedad1e1ae",
            "fce1c0784b86485fb828860d4f3b5ef9",
            "8bdcb1f2d7144b7ba31222ba71d68144",
            "4a7cbbdefb3f45d986b88878bef8493b",
            "ae6981c36106473fa2d8d38f86771734",
            "8718eb8e802247c684c94e42075e4aef",
            "e751ac749c1f440193b9d678a8703ba5",
            "2b81ea5161894a4996701cd828e882f1"
          ]
        }
      },
      "source": [
        "run.finish()"
      ],
      "execution_count": 19,
      "outputs": [
        {
          "output_type": "display_data",
          "data": {
            "text/html": [
              "<br/>Waiting for W&B process to finish, PID 562<br/>Program ended successfully."
            ],
            "text/plain": [
              "<IPython.core.display.HTML object>"
            ]
          },
          "metadata": {
            "tags": []
          }
        },
        {
          "output_type": "display_data",
          "data": {
            "application/vnd.jupyter.widget-view+json": {
              "model_id": "6e1af60d1c6d498bb63fd6cedad1e1ae",
              "version_minor": 0,
              "version_major": 2
            },
            "text/plain": [
              "VBox(children=(Label(value=' 33.09MB of 33.09MB uploaded (0.00MB deduped)\\r'), FloatProgress(value=1.0, max=1.…"
            ]
          },
          "metadata": {
            "tags": []
          }
        },
        {
          "output_type": "display_data",
          "data": {
            "text/html": [
              "Find user logs for this run at: <code>wandb/run-20201103_095700-3rxd29ap/logs/debug.log</code>"
            ],
            "text/plain": [
              "<IPython.core.display.HTML object>"
            ]
          },
          "metadata": {
            "tags": []
          }
        },
        {
          "output_type": "display_data",
          "data": {
            "text/html": [
              "Find internal logs for this run at: <code>wandb/run-20201103_095700-3rxd29ap/logs/debug-internal.log</code>"
            ],
            "text/plain": [
              "<IPython.core.display.HTML object>"
            ]
          },
          "metadata": {
            "tags": []
          }
        },
        {
          "output_type": "display_data",
          "data": {
            "text/html": [
              "<h3>Run summary:</h3><br/><style>\n",
              "    table.wandb td:nth-child(1) { padding: 0 10px; text-align: right }\n",
              "    </style><table class=\"wandb\">\n",
              "<tr><td>epoch</td><td>19</td></tr><tr><td>loss</td><td>0.00707</td></tr><tr><td>accuracy</td><td>0.99744</td></tr><tr><td>val_loss</td><td>0.56159</td></tr><tr><td>val_accuracy</td><td>0.8852</td></tr><tr><td>_step</td><td>19</td></tr><tr><td>_runtime</td><td>5492</td></tr><tr><td>_timestamp</td><td>1604402912</td></tr><tr><td>best_val_loss</td><td>0.31618</td></tr><tr><td>best_epoch</td><td>2</td></tr></table>"
            ],
            "text/plain": [
              "<IPython.core.display.HTML object>"
            ]
          },
          "metadata": {
            "tags": []
          }
        },
        {
          "output_type": "display_data",
          "data": {
            "text/html": [
              "<h3>Run history:</h3><br/><style>\n",
              "    table.wandb td:nth-child(1) { padding: 0 10px; text-align: right }\n",
              "    </style><table class=\"wandb\">\n",
              "<tr><td>epoch</td><td>▁▁▂▂▂▃▃▄▄▄▅▅▅▆▆▇▇▇██</td></tr><tr><td>loss</td><td>█▃▂▂▂▂▂▂▁▁▁▁▂▁▁▁▁▁▁▁</td></tr><tr><td>accuracy</td><td>▁▆▇▇█▇▇█████▇███████</td></tr><tr><td>val_loss</td><td>▂▁▁▂▃▄▃▄▅▆▆▆▅█▅▅▆▅▅▇</td></tr><tr><td>val_accuracy</td><td>▁▃▅▆▇▅▅▆▇█▇▆▇▅▇█▇██▇</td></tr><tr><td>_step</td><td>▁▁▂▂▂▃▃▄▄▄▅▅▅▆▆▇▇▇██</td></tr><tr><td>_runtime</td><td>▁▁▂▂▂▃▃▄▄▄▅▅▅▆▆▇▇▇██</td></tr><tr><td>_timestamp</td><td>▁▁▂▂▂▃▃▄▄▄▅▅▅▆▆▇▇▇██</td></tr></table><br/>"
            ],
            "text/plain": [
              "<IPython.core.display.HTML object>"
            ]
          },
          "metadata": {
            "tags": []
          }
        },
        {
          "output_type": "display_data",
          "data": {
            "text/html": [
              "Synced 5 W&B file(s), 1 media file(s), 0 artifact file(s) and 1 other file(s)"
            ],
            "text/plain": [
              "<IPython.core.display.HTML object>"
            ]
          },
          "metadata": {
            "tags": []
          }
        },
        {
          "output_type": "display_data",
          "data": {
            "text/html": [
              "\n",
              "                    <br/>Synced <strong style=\"color:#cdcd00\">mobilenet_v2</strong>: <a href=\"https://wandb.ai/burntice/cz4042/runs/3rxd29ap\" target=\"_blank\">https://wandb.ai/burntice/cz4042/runs/3rxd29ap</a><br/>\n",
              "                "
            ],
            "text/plain": [
              "<IPython.core.display.HTML object>"
            ]
          },
          "metadata": {
            "tags": []
          }
        }
      ]
    }
  ]
}