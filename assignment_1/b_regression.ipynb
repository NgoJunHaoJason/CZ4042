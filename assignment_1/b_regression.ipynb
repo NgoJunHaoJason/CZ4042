{
 "cells": [
  {
   "cell_type": "markdown",
   "metadata": {},
   "source": [
    "# Part B: Regression Problem\n",
    "\n",
    "This assignment uses the data from the Graduate Admissions Predication \\[2\\]. The dataset contains several parameters like GRE score (out of 340), TOEFL score (out of 120), university Rating (out of 5), strengths of Statement of Purpose and Letter of Recommendation (out of 5), undergraduate GPA (out of 10), research experience (either 0 or 1), that are considered important during the application for Master Programs. The predicted parameter is the chance of getting an admit (ranging from 0 to 1). You can obtain the data from: https://www.kaggle.com/mohansacharya/graduate-admissions or from file ‘admission_predict.csv’.\n",
    "\n",
    "Each data sample is a row of 9 values: 1 serial number (ignore), 7 input attributes and the probability of getting an admit as targets. Divide the dataset at 70:30 ratio for training and testing.\n",
    "\n",
    "\\[2\\] Mohan S Acharya, Asfia Armaan, Aneeta S Antony: A Comparison of Regression Models for Prediction of Graduate Admissions, IEEE International Conference on Computational Intelligence in Data Science 2019."
   ]
  },
  {
   "cell_type": "code",
   "execution_count": 1,
   "metadata": {},
   "outputs": [],
   "source": [
    "# import relevant libraries\n",
    "from sklearn.feature_selection import RFECV\n",
    "from sklearn.linear_model import LinearRegression\n",
    "from sklearn.model_selection import train_test_split\n",
    "from sklearn.preprocessing import StandardScaler\n",
    "\n",
    "import matplotlib.pyplot as plt\n",
    "import pandas as pd\n",
    "import tensorflow as tf\n",
    "\n",
    "import random"
   ]
  },
  {
   "cell_type": "code",
   "execution_count": 2,
   "metadata": {},
   "outputs": [],
   "source": [
    "# configurations\n",
    "seed = 0  # for reproducible results when randomness is introduced\n",
    "random.seed(seed)\n",
    "tf.random.set_seed(seed)  # since shuffle=True in model.fit()"
   ]
  },
  {
   "cell_type": "code",
   "execution_count": 3,
   "metadata": {},
   "outputs": [
    {
     "data": {
      "text/html": [
       "<div>\n",
       "<style scoped>\n",
       "    .dataframe tbody tr th:only-of-type {\n",
       "        vertical-align: middle;\n",
       "    }\n",
       "\n",
       "    .dataframe tbody tr th {\n",
       "        vertical-align: top;\n",
       "    }\n",
       "\n",
       "    .dataframe thead th {\n",
       "        text-align: right;\n",
       "    }\n",
       "</style>\n",
       "<table border=\"1\" class=\"dataframe\">\n",
       "  <thead>\n",
       "    <tr style=\"text-align: right;\">\n",
       "      <th></th>\n",
       "      <th>Serial No.</th>\n",
       "      <th>GRE Score</th>\n",
       "      <th>TOEFL Score</th>\n",
       "      <th>University Rating</th>\n",
       "      <th>SOP</th>\n",
       "      <th>LOR</th>\n",
       "      <th>CGPA</th>\n",
       "      <th>Research</th>\n",
       "      <th>Chance of Admit</th>\n",
       "    </tr>\n",
       "  </thead>\n",
       "  <tbody>\n",
       "    <tr>\n",
       "      <th>0</th>\n",
       "      <td>1</td>\n",
       "      <td>337</td>\n",
       "      <td>118</td>\n",
       "      <td>4</td>\n",
       "      <td>4.5</td>\n",
       "      <td>4.5</td>\n",
       "      <td>9.65</td>\n",
       "      <td>1</td>\n",
       "      <td>0.92</td>\n",
       "    </tr>\n",
       "    <tr>\n",
       "      <th>1</th>\n",
       "      <td>2</td>\n",
       "      <td>324</td>\n",
       "      <td>107</td>\n",
       "      <td>4</td>\n",
       "      <td>4.0</td>\n",
       "      <td>4.5</td>\n",
       "      <td>8.87</td>\n",
       "      <td>1</td>\n",
       "      <td>0.76</td>\n",
       "    </tr>\n",
       "    <tr>\n",
       "      <th>2</th>\n",
       "      <td>3</td>\n",
       "      <td>316</td>\n",
       "      <td>104</td>\n",
       "      <td>3</td>\n",
       "      <td>3.0</td>\n",
       "      <td>3.5</td>\n",
       "      <td>8.00</td>\n",
       "      <td>1</td>\n",
       "      <td>0.72</td>\n",
       "    </tr>\n",
       "    <tr>\n",
       "      <th>3</th>\n",
       "      <td>4</td>\n",
       "      <td>322</td>\n",
       "      <td>110</td>\n",
       "      <td>3</td>\n",
       "      <td>3.5</td>\n",
       "      <td>2.5</td>\n",
       "      <td>8.67</td>\n",
       "      <td>1</td>\n",
       "      <td>0.80</td>\n",
       "    </tr>\n",
       "    <tr>\n",
       "      <th>4</th>\n",
       "      <td>5</td>\n",
       "      <td>314</td>\n",
       "      <td>103</td>\n",
       "      <td>2</td>\n",
       "      <td>2.0</td>\n",
       "      <td>3.0</td>\n",
       "      <td>8.21</td>\n",
       "      <td>0</td>\n",
       "      <td>0.65</td>\n",
       "    </tr>\n",
       "  </tbody>\n",
       "</table>\n",
       "</div>"
      ],
      "text/plain": [
       "   Serial No.  GRE Score  TOEFL Score  University Rating  SOP  LOR  CGPA  \\\n",
       "0           1        337          118                  4  4.5  4.5  9.65   \n",
       "1           2        324          107                  4  4.0  4.5  8.87   \n",
       "2           3        316          104                  3  3.0  3.5  8.00   \n",
       "3           4        322          110                  3  3.5  2.5  8.67   \n",
       "4           5        314          103                  2  2.0  3.0  8.21   \n",
       "\n",
       "   Research  Chance of Admit  \n",
       "0         1             0.92  \n",
       "1         1             0.76  \n",
       "2         1             0.72  \n",
       "3         1             0.80  \n",
       "4         0             0.65  "
      ]
     },
     "execution_count": 3,
     "metadata": {},
     "output_type": "execute_result"
    }
   ],
   "source": [
    "# load data\n",
    "dataframe = pd.read_csv('data/admission_predict.csv')\n",
    "dataframe.head()"
   ]
  },
  {
   "cell_type": "code",
   "execution_count": 55,
   "metadata": {},
   "outputs": [
    {
     "name": "stdout",
     "output_type": "stream",
     "text": [
      "number of data points: 400\n"
     ]
    }
   ],
   "source": [
    "print(f'number of data points: {len(dataframe)}')"
   ]
  },
  {
   "cell_type": "code",
   "execution_count": 4,
   "metadata": {},
   "outputs": [
    {
     "data": {
      "text/html": [
       "<div>\n",
       "<style scoped>\n",
       "    .dataframe tbody tr th:only-of-type {\n",
       "        vertical-align: middle;\n",
       "    }\n",
       "\n",
       "    .dataframe tbody tr th {\n",
       "        vertical-align: top;\n",
       "    }\n",
       "\n",
       "    .dataframe thead th {\n",
       "        text-align: right;\n",
       "    }\n",
       "</style>\n",
       "<table border=\"1\" class=\"dataframe\">\n",
       "  <thead>\n",
       "    <tr style=\"text-align: right;\">\n",
       "      <th></th>\n",
       "      <th>GRE Score</th>\n",
       "      <th>TOEFL Score</th>\n",
       "      <th>University Rating</th>\n",
       "      <th>SOP</th>\n",
       "      <th>LOR</th>\n",
       "      <th>CGPA</th>\n",
       "      <th>Research</th>\n",
       "      <th>Chance of Admit</th>\n",
       "    </tr>\n",
       "  </thead>\n",
       "  <tbody>\n",
       "    <tr>\n",
       "      <th>0</th>\n",
       "      <td>337</td>\n",
       "      <td>118</td>\n",
       "      <td>4</td>\n",
       "      <td>4.5</td>\n",
       "      <td>4.5</td>\n",
       "      <td>9.65</td>\n",
       "      <td>1</td>\n",
       "      <td>0.92</td>\n",
       "    </tr>\n",
       "    <tr>\n",
       "      <th>1</th>\n",
       "      <td>324</td>\n",
       "      <td>107</td>\n",
       "      <td>4</td>\n",
       "      <td>4.0</td>\n",
       "      <td>4.5</td>\n",
       "      <td>8.87</td>\n",
       "      <td>1</td>\n",
       "      <td>0.76</td>\n",
       "    </tr>\n",
       "    <tr>\n",
       "      <th>2</th>\n",
       "      <td>316</td>\n",
       "      <td>104</td>\n",
       "      <td>3</td>\n",
       "      <td>3.0</td>\n",
       "      <td>3.5</td>\n",
       "      <td>8.00</td>\n",
       "      <td>1</td>\n",
       "      <td>0.72</td>\n",
       "    </tr>\n",
       "    <tr>\n",
       "      <th>3</th>\n",
       "      <td>322</td>\n",
       "      <td>110</td>\n",
       "      <td>3</td>\n",
       "      <td>3.5</td>\n",
       "      <td>2.5</td>\n",
       "      <td>8.67</td>\n",
       "      <td>1</td>\n",
       "      <td>0.80</td>\n",
       "    </tr>\n",
       "    <tr>\n",
       "      <th>4</th>\n",
       "      <td>314</td>\n",
       "      <td>103</td>\n",
       "      <td>2</td>\n",
       "      <td>2.0</td>\n",
       "      <td>3.0</td>\n",
       "      <td>8.21</td>\n",
       "      <td>0</td>\n",
       "      <td>0.65</td>\n",
       "    </tr>\n",
       "  </tbody>\n",
       "</table>\n",
       "</div>"
      ],
      "text/plain": [
       "   GRE Score  TOEFL Score  University Rating  SOP  LOR  CGPA  Research  \\\n",
       "0        337          118                  4  4.5  4.5  9.65         1   \n",
       "1        324          107                  4  4.0  4.5  8.87         1   \n",
       "2        316          104                  3  3.0  3.5  8.00         1   \n",
       "3        322          110                  3  3.5  2.5  8.67         1   \n",
       "4        314          103                  2  2.0  3.0  8.21         0   \n",
       "\n",
       "   Chance of Admit  \n",
       "0             0.92  \n",
       "1             0.76  \n",
       "2             0.72  \n",
       "3             0.80  \n",
       "4             0.65  "
      ]
     },
     "execution_count": 4,
     "metadata": {},
     "output_type": "execute_result"
    }
   ],
   "source": [
    "# ignore serial number like what question asked\n",
    "dataframe = dataframe.drop(columns='Serial No.')\n",
    "dataframe.head()"
   ]
  },
  {
   "cell_type": "code",
   "execution_count": 5,
   "metadata": {},
   "outputs": [
    {
     "data": {
      "text/html": [
       "<div>\n",
       "<style scoped>\n",
       "    .dataframe tbody tr th:only-of-type {\n",
       "        vertical-align: middle;\n",
       "    }\n",
       "\n",
       "    .dataframe tbody tr th {\n",
       "        vertical-align: top;\n",
       "    }\n",
       "\n",
       "    .dataframe thead th {\n",
       "        text-align: right;\n",
       "    }\n",
       "</style>\n",
       "<table border=\"1\" class=\"dataframe\">\n",
       "  <thead>\n",
       "    <tr style=\"text-align: right;\">\n",
       "      <th></th>\n",
       "      <th>GRE Score</th>\n",
       "      <th>TOEFL Score</th>\n",
       "      <th>University Rating</th>\n",
       "      <th>SOP</th>\n",
       "      <th>LOR</th>\n",
       "      <th>CGPA</th>\n",
       "      <th>Research</th>\n",
       "      <th>Chance of Admit</th>\n",
       "    </tr>\n",
       "  </thead>\n",
       "  <tbody>\n",
       "    <tr>\n",
       "      <th>count</th>\n",
       "      <td>400.000000</td>\n",
       "      <td>400.000000</td>\n",
       "      <td>400.000000</td>\n",
       "      <td>400.000000</td>\n",
       "      <td>400.000000</td>\n",
       "      <td>400.000000</td>\n",
       "      <td>400.000000</td>\n",
       "      <td>400.000000</td>\n",
       "    </tr>\n",
       "    <tr>\n",
       "      <th>mean</th>\n",
       "      <td>316.807500</td>\n",
       "      <td>107.410000</td>\n",
       "      <td>3.087500</td>\n",
       "      <td>3.400000</td>\n",
       "      <td>3.452500</td>\n",
       "      <td>8.598925</td>\n",
       "      <td>0.547500</td>\n",
       "      <td>0.724350</td>\n",
       "    </tr>\n",
       "    <tr>\n",
       "      <th>std</th>\n",
       "      <td>11.473646</td>\n",
       "      <td>6.069514</td>\n",
       "      <td>1.143728</td>\n",
       "      <td>1.006869</td>\n",
       "      <td>0.898478</td>\n",
       "      <td>0.596317</td>\n",
       "      <td>0.498362</td>\n",
       "      <td>0.142609</td>\n",
       "    </tr>\n",
       "    <tr>\n",
       "      <th>min</th>\n",
       "      <td>290.000000</td>\n",
       "      <td>92.000000</td>\n",
       "      <td>1.000000</td>\n",
       "      <td>1.000000</td>\n",
       "      <td>1.000000</td>\n",
       "      <td>6.800000</td>\n",
       "      <td>0.000000</td>\n",
       "      <td>0.340000</td>\n",
       "    </tr>\n",
       "    <tr>\n",
       "      <th>25%</th>\n",
       "      <td>308.000000</td>\n",
       "      <td>103.000000</td>\n",
       "      <td>2.000000</td>\n",
       "      <td>2.500000</td>\n",
       "      <td>3.000000</td>\n",
       "      <td>8.170000</td>\n",
       "      <td>0.000000</td>\n",
       "      <td>0.640000</td>\n",
       "    </tr>\n",
       "    <tr>\n",
       "      <th>50%</th>\n",
       "      <td>317.000000</td>\n",
       "      <td>107.000000</td>\n",
       "      <td>3.000000</td>\n",
       "      <td>3.500000</td>\n",
       "      <td>3.500000</td>\n",
       "      <td>8.610000</td>\n",
       "      <td>1.000000</td>\n",
       "      <td>0.730000</td>\n",
       "    </tr>\n",
       "    <tr>\n",
       "      <th>75%</th>\n",
       "      <td>325.000000</td>\n",
       "      <td>112.000000</td>\n",
       "      <td>4.000000</td>\n",
       "      <td>4.000000</td>\n",
       "      <td>4.000000</td>\n",
       "      <td>9.062500</td>\n",
       "      <td>1.000000</td>\n",
       "      <td>0.830000</td>\n",
       "    </tr>\n",
       "    <tr>\n",
       "      <th>max</th>\n",
       "      <td>340.000000</td>\n",
       "      <td>120.000000</td>\n",
       "      <td>5.000000</td>\n",
       "      <td>5.000000</td>\n",
       "      <td>5.000000</td>\n",
       "      <td>9.920000</td>\n",
       "      <td>1.000000</td>\n",
       "      <td>0.970000</td>\n",
       "    </tr>\n",
       "  </tbody>\n",
       "</table>\n",
       "</div>"
      ],
      "text/plain": [
       "        GRE Score  TOEFL Score  University Rating         SOP         LOR  \\\n",
       "count  400.000000   400.000000         400.000000  400.000000  400.000000   \n",
       "mean   316.807500   107.410000           3.087500    3.400000    3.452500   \n",
       "std     11.473646     6.069514           1.143728    1.006869    0.898478   \n",
       "min    290.000000    92.000000           1.000000    1.000000    1.000000   \n",
       "25%    308.000000   103.000000           2.000000    2.500000    3.000000   \n",
       "50%    317.000000   107.000000           3.000000    3.500000    3.500000   \n",
       "75%    325.000000   112.000000           4.000000    4.000000    4.000000   \n",
       "max    340.000000   120.000000           5.000000    5.000000    5.000000   \n",
       "\n",
       "             CGPA    Research  Chance of Admit  \n",
       "count  400.000000  400.000000       400.000000  \n",
       "mean     8.598925    0.547500         0.724350  \n",
       "std      0.596317    0.498362         0.142609  \n",
       "min      6.800000    0.000000         0.340000  \n",
       "25%      8.170000    0.000000         0.640000  \n",
       "50%      8.610000    1.000000         0.730000  \n",
       "75%      9.062500    1.000000         0.830000  \n",
       "max      9.920000    1.000000         0.970000  "
      ]
     },
     "execution_count": 5,
     "metadata": {},
     "output_type": "execute_result"
    }
   ],
   "source": [
    "# show basic information of data\n",
    "dataframe.describe()"
   ]
  },
  {
   "cell_type": "code",
   "execution_count": 6,
   "metadata": {},
   "outputs": [
    {
     "data": {
      "image/png": "[encoded data removed]",
      "text/plain": [
       "<Figure size 1728x1152 with 8 Axes>"
      ]
     },
     "metadata": {
      "needs_background": "light"
     },
     "output_type": "display_data"
    }
   ],
   "source": [
    "# show distribution for each feature\n",
    "figure, axes = plt.subplots(nrows=4, ncols=2, figsize=(24, 16))\n",
    "\n",
    "for index, column in enumerate(dataframe.columns):\n",
    "    feature = dataframe[column]  # and target (admission probability)\n",
    "\n",
    "    row_num = index // 2\n",
    "    col_num = index % 2\n",
    "\n",
    "    feature.plot.hist(bins=25, ax=axes[row_num, col_num])\n",
    "    axes[row_num, col_num].set_title(column)\n",
    "\n",
    "figure.tight_layout()\n",
    "\n",
    "plt.savefig('output/b.png')\n",
    "\n",
    "del figure"
   ]
  },
  {
   "cell_type": "markdown",
   "metadata": {},
   "source": [
    "Looks like almost all features, as well as the target variable, follow normal distribution approximately. The exception is the Research feature, which is binary."
   ]
  },
  {
   "cell_type": "code",
   "execution_count": 7,
   "metadata": {},
   "outputs": [],
   "source": [
    "# separate features from target\n",
    "target = dataframe['Chance of Admit']\n",
    "features = dataframe.drop(columns='Chance of Admit')\n",
    "\n",
    "del dataframe"
   ]
  },
  {
   "cell_type": "code",
   "execution_count": 8,
   "metadata": {},
   "outputs": [
    {
     "data": {
      "text/plain": [
       "0    0.92\n",
       "1    0.76\n",
       "2    0.72\n",
       "3    0.80\n",
       "4    0.65\n",
       "Name: Chance of Admit, dtype: float64"
      ]
     },
     "execution_count": 8,
     "metadata": {},
     "output_type": "execute_result"
    }
   ],
   "source": [
    "target.head()"
   ]
  },
  {
   "cell_type": "code",
   "execution_count": 9,
   "metadata": {},
   "outputs": [
    {
     "data": {
      "text/html": [
       "<div>\n",
       "<style scoped>\n",
       "    .dataframe tbody tr th:only-of-type {\n",
       "        vertical-align: middle;\n",
       "    }\n",
       "\n",
       "    .dataframe tbody tr th {\n",
       "        vertical-align: top;\n",
       "    }\n",
       "\n",
       "    .dataframe thead th {\n",
       "        text-align: right;\n",
       "    }\n",
       "</style>\n",
       "<table border=\"1\" class=\"dataframe\">\n",
       "  <thead>\n",
       "    <tr style=\"text-align: right;\">\n",
       "      <th></th>\n",
       "      <th>GRE Score</th>\n",
       "      <th>TOEFL Score</th>\n",
       "      <th>University Rating</th>\n",
       "      <th>SOP</th>\n",
       "      <th>LOR</th>\n",
       "      <th>CGPA</th>\n",
       "      <th>Research</th>\n",
       "    </tr>\n",
       "  </thead>\n",
       "  <tbody>\n",
       "    <tr>\n",
       "      <th>0</th>\n",
       "      <td>337</td>\n",
       "      <td>118</td>\n",
       "      <td>4</td>\n",
       "      <td>4.5</td>\n",
       "      <td>4.5</td>\n",
       "      <td>9.65</td>\n",
       "      <td>1</td>\n",
       "    </tr>\n",
       "    <tr>\n",
       "      <th>1</th>\n",
       "      <td>324</td>\n",
       "      <td>107</td>\n",
       "      <td>4</td>\n",
       "      <td>4.0</td>\n",
       "      <td>4.5</td>\n",
       "      <td>8.87</td>\n",
       "      <td>1</td>\n",
       "    </tr>\n",
       "    <tr>\n",
       "      <th>2</th>\n",
       "      <td>316</td>\n",
       "      <td>104</td>\n",
       "      <td>3</td>\n",
       "      <td>3.0</td>\n",
       "      <td>3.5</td>\n",
       "      <td>8.00</td>\n",
       "      <td>1</td>\n",
       "    </tr>\n",
       "    <tr>\n",
       "      <th>3</th>\n",
       "      <td>322</td>\n",
       "      <td>110</td>\n",
       "      <td>3</td>\n",
       "      <td>3.5</td>\n",
       "      <td>2.5</td>\n",
       "      <td>8.67</td>\n",
       "      <td>1</td>\n",
       "    </tr>\n",
       "    <tr>\n",
       "      <th>4</th>\n",
       "      <td>314</td>\n",
       "      <td>103</td>\n",
       "      <td>2</td>\n",
       "      <td>2.0</td>\n",
       "      <td>3.0</td>\n",
       "      <td>8.21</td>\n",
       "      <td>0</td>\n",
       "    </tr>\n",
       "  </tbody>\n",
       "</table>\n",
       "</div>"
      ],
      "text/plain": [
       "   GRE Score  TOEFL Score  University Rating  SOP  LOR  CGPA  Research\n",
       "0        337          118                  4  4.5  4.5  9.65         1\n",
       "1        324          107                  4  4.0  4.5  8.87         1\n",
       "2        316          104                  3  3.0  3.5  8.00         1\n",
       "3        322          110                  3  3.5  2.5  8.67         1\n",
       "4        314          103                  2  2.0  3.0  8.21         0"
      ]
     },
     "execution_count": 9,
     "metadata": {},
     "output_type": "execute_result"
    }
   ],
   "source": [
    "features.head()"
   ]
  },
  {
   "cell_type": "code",
   "execution_count": 10,
   "metadata": {},
   "outputs": [],
   "source": [
    "# scale the features like in assignment 1 part a (data approximately normal)\n",
    "# minus mean, divide by standard deviation\n",
    "scaler = StandardScaler()\n",
    "features = scaler.fit_transform(features)\n",
    "features = pd.DataFrame(features)\n",
    "\n",
    "del scaler"
   ]
  },
  {
   "cell_type": "code",
   "execution_count": 11,
   "metadata": {},
   "outputs": [
    {
     "data": {
      "text/html": [
       "<div>\n",
       "<style scoped>\n",
       "    .dataframe tbody tr th:only-of-type {\n",
       "        vertical-align: middle;\n",
       "    }\n",
       "\n",
       "    .dataframe tbody tr th {\n",
       "        vertical-align: top;\n",
       "    }\n",
       "\n",
       "    .dataframe thead th {\n",
       "        text-align: right;\n",
       "    }\n",
       "</style>\n",
       "<table border=\"1\" class=\"dataframe\">\n",
       "  <thead>\n",
       "    <tr style=\"text-align: right;\">\n",
       "      <th></th>\n",
       "      <th>0</th>\n",
       "      <th>1</th>\n",
       "      <th>2</th>\n",
       "      <th>3</th>\n",
       "      <th>4</th>\n",
       "      <th>5</th>\n",
       "      <th>6</th>\n",
       "    </tr>\n",
       "  </thead>\n",
       "  <tbody>\n",
       "    <tr>\n",
       "      <th>0</th>\n",
       "      <td>1.762107</td>\n",
       "      <td>1.746971</td>\n",
       "      <td>0.798829</td>\n",
       "      <td>1.093864</td>\n",
       "      <td>1.167321</td>\n",
       "      <td>1.764818</td>\n",
       "      <td>0.909112</td>\n",
       "    </tr>\n",
       "    <tr>\n",
       "      <th>1</th>\n",
       "      <td>0.627656</td>\n",
       "      <td>-0.067635</td>\n",
       "      <td>0.798829</td>\n",
       "      <td>0.596653</td>\n",
       "      <td>1.167321</td>\n",
       "      <td>0.455151</td>\n",
       "      <td>0.909112</td>\n",
       "    </tr>\n",
       "    <tr>\n",
       "      <th>2</th>\n",
       "      <td>-0.070467</td>\n",
       "      <td>-0.562528</td>\n",
       "      <td>-0.076600</td>\n",
       "      <td>-0.397769</td>\n",
       "      <td>0.052933</td>\n",
       "      <td>-1.005631</td>\n",
       "      <td>0.909112</td>\n",
       "    </tr>\n",
       "    <tr>\n",
       "      <th>3</th>\n",
       "      <td>0.453126</td>\n",
       "      <td>0.427257</td>\n",
       "      <td>-0.076600</td>\n",
       "      <td>0.099442</td>\n",
       "      <td>-1.061454</td>\n",
       "      <td>0.119339</td>\n",
       "      <td>0.909112</td>\n",
       "    </tr>\n",
       "    <tr>\n",
       "      <th>4</th>\n",
       "      <td>-0.244998</td>\n",
       "      <td>-0.727492</td>\n",
       "      <td>-0.952029</td>\n",
       "      <td>-1.392191</td>\n",
       "      <td>-0.504260</td>\n",
       "      <td>-0.653029</td>\n",
       "      <td>-1.099975</td>\n",
       "    </tr>\n",
       "  </tbody>\n",
       "</table>\n",
       "</div>"
      ],
      "text/plain": [
       "          0         1         2         3         4         5         6\n",
       "0  1.762107  1.746971  0.798829  1.093864  1.167321  1.764818  0.909112\n",
       "1  0.627656 -0.067635  0.798829  0.596653  1.167321  0.455151  0.909112\n",
       "2 -0.070467 -0.562528 -0.076600 -0.397769  0.052933 -1.005631  0.909112\n",
       "3  0.453126  0.427257 -0.076600  0.099442 -1.061454  0.119339  0.909112\n",
       "4 -0.244998 -0.727492 -0.952029 -1.392191 -0.504260 -0.653029 -1.099975"
      ]
     },
     "execution_count": 11,
     "metadata": {},
     "output_type": "execute_result"
    }
   ],
   "source": [
    "features.head()"
   ]
  },
  {
   "cell_type": "code",
   "execution_count": 12,
   "metadata": {},
   "outputs": [],
   "source": [
    "# Divide the dataset at 70:30 ratio for training and testing.\n",
    "train_features, test_features, train_labels, test_labels = train_test_split(\n",
    "    features,\n",
    "    target,\n",
    "    test_size=0.3,\n",
    "    random_state=seed,\n",
    ")"
   ]
  },
  {
   "cell_type": "markdown",
   "metadata": {},
   "source": [
    "1. Design a 3-layer feedforward neural network consists of an input layer, a hidden-layer of 10 neurons having ReLU activation functions, and a linear output layer. Use mini-batch gradient descent with a batch size = 8, L<sub>2</sub> regularization at weight decay parameter β = 10<sup>-3</sup> and a learning rate α = 10<sup>-3</sup> to train the network."
   ]
  },
  {
   "cell_type": "code",
   "execution_count": 13,
   "metadata": {},
   "outputs": [],
   "source": [
    "# input layer params\n",
    "num_features = len(features.columns)\n",
    "\n",
    "# hidden layer params\n",
    "num_hidden_neurons = 10\n",
    "hidden_activation = 'relu'\n",
    "weight_decay_parameter = 10**-3\n",
    "\n",
    "# output layer params\n",
    "num_classes = 1  # probability of admission only\n",
    "output_activation = 'linear'\n",
    "\n",
    "del features\n",
    "del target"
   ]
  },
  {
   "cell_type": "code",
   "execution_count": 14,
   "metadata": {},
   "outputs": [],
   "source": [
    "# define function to generate a model for usage later\n",
    "def get_neural_network(\n",
    "    num_features: int,\n",
    "    num_hidden_layers: int = 1,\n",
    "    num_hidden_neurons: int = 10,\n",
    "    dropout_rate: float = 0,\n",
    ") -> tf.keras.Sequential:\n",
    "    '''\n",
    "    Generates a fully-connected neural network of at least 3 layers.\n",
    "        layer 1 - input layer\n",
    "        layer 2 - hidden layer\n",
    "        ...\n",
    "        layer n - output layer (linear)\n",
    "    \n",
    "    :params:\n",
    "    - num_features (int): number of features for the model to work with\n",
    "    - num_hidden_layers (int): number of hidden layers - must be at least 1 (default: 1)\n",
    "    - dropout_rate (float): the frequency at which the Dropout layer randomly sets input units to 0 (default: 0)\n",
    "    dropout_rate == 0 --> no dropout\n",
    "    \n",
    "    :return:\n",
    "    - (tf.keras.Sequential)\n",
    "    '''\n",
    "    if num_features < 1:\n",
    "        raise ValueError('There must be at least 1 feature for the model to train on.')\n",
    "        \n",
    "    if num_hidden_layers < 1:\n",
    "        raise ValueError('There must be at least 1 hidden layer in the model.')\n",
    "        \n",
    "    if num_hidden_neurons < 1:\n",
    "        raise ValueError('There must be at least 1 neuron in the hidden layer.')\n",
    "    \n",
    "    model = tf.keras.Sequential()\n",
    "    \n",
    "    model.add(tf.keras.layers.InputLayer(\n",
    "        input_shape=num_features,\n",
    "    ))\n",
    "    \n",
    "    for _ in range(num_hidden_layers):\n",
    "        model.add(tf.keras.layers.Dense(\n",
    "            num_hidden_neurons,\n",
    "            activation=hidden_activation,\n",
    "            kernel_regularizer=tf.keras.regularizers.l2(l=weight_decay_parameter),\n",
    "        ))\n",
    "        \n",
    "        if dropout_rate > 0:\n",
    "            model.add(tf.keras.layers.Dropout(\n",
    "                dropout_rate,\n",
    "                seed=seed,\n",
    "            ))\n",
    "\n",
    "    model.add(tf.keras.layers.Dense(\n",
    "        num_classes,\n",
    "        activation=output_activation,\n",
    "    ))\n",
    "\n",
    "    model.compile(\n",
    "        loss=tf.keras.losses.MeanSquaredError(),\n",
    "        optimizer=tf.keras.optimizers.SGD(learning_rate=learning_rate),\n",
    "        metrics=['mse'],\n",
    "    )\n",
    "\n",
    "    return model"
   ]
  },
  {
   "cell_type": "code",
   "execution_count": 15,
   "metadata": {},
   "outputs": [],
   "source": [
    "# training params\n",
    "learning_rate = 10**-3\n",
    "batch_size = 8\n",
    "num_epochs_per_step = 50  # 1 epoch per step is too unstable, so take average over multiple epochs"
   ]
  },
  {
   "cell_type": "code",
   "execution_count": 16,
   "metadata": {},
   "outputs": [],
   "source": [
    "# define train function for usage later\n",
    "def train(\n",
    "    model: tf.keras.Sequential,\n",
    "    train_features: pd.DataFrame,\n",
    "    train_labels: pd.Series,\n",
    "    test_features: pd.DataFrame,\n",
    "    test_labels: pd.Series,\n",
    ") -> tuple:\n",
    "    '''\n",
    "    Train a model using the given data.\n",
    "    \n",
    "    :params:\n",
    "    - model (tf.keras.Sequential): the model to be trained\n",
    "    - train_features (pd.DataFrame): features for model to train on\n",
    "    - train_labels (pd.Series): labels for model to train on\n",
    "    - test_features (pd.DataFrame): features for model to use for validation and evaluation\n",
    "    - test_labels (pd.Series): labels for model to use for validation and evaluation\n",
    "    \n",
    "    :return:\n",
    "    tuple consisting of\n",
    "    - model that has been trained\n",
    "    - training history (dict with keys: 'loss', 'val_loss', 'mse', 'val_mse')\n",
    "    - evaluation results (dict with keys: 'loss', 'mse', 'num_epochs')\n",
    "    '''\n",
    "    previous_average_mse = 3\n",
    "    current_average_mse = 2\n",
    "    next_average_mse = 1\n",
    "    \n",
    "    stop_early = False\n",
    "\n",
    "    num_epochs = 0  # count actual total number of training epochs\n",
    "    history = {  # fit multiple times, so need to store history\n",
    "        'loss': [],\n",
    "        'val_loss': [],\n",
    "        'mse': [],\n",
    "        'val_mse': [],\n",
    "    }\n",
    "\n",
    "    while not stop_early:   \n",
    "        train_history = model.fit(\n",
    "            x=train_features,\n",
    "            y=train_labels,\n",
    "            batch_size=batch_size,\n",
    "            epochs=num_epochs_per_step,\n",
    "            verbose=0,  # not showing training details\n",
    "            validation_data=(test_features, test_labels),\n",
    "            shuffle=True,\n",
    "        )\n",
    "\n",
    "        num_epochs += num_epochs_per_step\n",
    "\n",
    "        for metric, values in train_history.history.items():\n",
    "            history[metric] += values\n",
    "\n",
    "        previous_average_mse, current_average_mse = current_average_mse, next_average_mse\n",
    "        next_average_mse = sum(train_history.history['val_mse']) / num_epochs_per_step\n",
    "        \n",
    "        stop_early = current_average_mse < previous_average_mse and \\\n",
    "            current_average_mse < next_average_mse  # early stopping at minimum test error\n",
    "        \n",
    "        # final model overfits a little since it stops 50 epochs after minimum test error\n",
    "\n",
    "    results = model.evaluate(\n",
    "        test_features,\n",
    "        test_labels,\n",
    "        batch_size=batch_size,\n",
    "        return_dict=True,\n",
    "    )\n",
    "    results['num_epochs'] = num_epochs\n",
    "    \n",
    "    return model, history, results"
   ]
  },
  {
   "cell_type": "code",
   "execution_count": 17,
   "metadata": {},
   "outputs": [],
   "source": [
    "# define function to print results after training a model\n",
    "def print_results(results: dict):\n",
    "    '''\n",
    "    Print evaluation scores and number of epochs.\n",
    "    Loss and MSE values are printed to 4 decimal places.\n",
    "    \n",
    "    :params:\n",
    "    - results (dict): holds evaluation results - keys: 'loss', 'mse', 'num_epochs'\n",
    "    '''\n",
    "    loss = results['loss']\n",
    "    accuracy = results['mse']\n",
    "    num_epochs = results['num_epochs']\n",
    "    \n",
    "    print(f'test loss: {loss:.4f}, test mse: {accuracy:.4f}')\n",
    "    print(f'number of epochs to reach minimum test error: {num_epochs}')"
   ]
  },
  {
   "cell_type": "code",
   "execution_count": 18,
   "metadata": {},
   "outputs": [],
   "source": [
    "# define function to plot loss and MSE curves for usage later\n",
    "def plot_loss_accuracy_curves(num_epochs: int, history: dict, image_path: str = None):\n",
    "    '''\n",
    "    Plots loss curve and MSE curve side-by-side.\n",
    "    \n",
    "    :params:\n",
    "    - total_num_epochs (int): total number of epochs for model to get minimal test error\n",
    "    - history (dict): history of loss and MSE values at each epoch - keys: 'loss', 'val_loss', 'mse', 'val_mse'\n",
    "    - image_path (str): save figure as image to this file path (default: None / no save)\n",
    "    '''\n",
    "    _, (loss_axis, accuracy_axis) = plt.subplots(nrows=1, ncols=2, figsize=(24, 6))\n",
    "\n",
    "    loss_axis.set_title('loss')\n",
    "    loss_axis.plot(range(num_epochs), history['loss'], label='train')\n",
    "    loss_axis.plot(range(num_epochs), history['val_loss'], label='test')\n",
    "    loss_axis.legend()\n",
    "\n",
    "    accuracy_axis.set_title('mse')\n",
    "    accuracy_axis.plot(range(num_epochs), history['mse'], label='train')\n",
    "    accuracy_axis.plot(range(num_epochs), history['val_mse'], label='test')\n",
    "    accuracy_axis.legend()\n",
    "\n",
    "    if image_path is not None:\n",
    "        plt.savefig(image_path)"
   ]
  },
  {
   "cell_type": "markdown",
   "metadata": {},
   "source": [
    "a) Use the train dataset to train the model and plot both the train and test errors against epochs."
   ]
  },
  {
   "cell_type": "markdown",
   "metadata": {},
   "source": [
    "b) State the approximate number of epochs where the test error is minimum and use it to stop training."
   ]
  },
  {
   "cell_type": "code",
   "execution_count": 19,
   "metadata": {},
   "outputs": [
    {
     "name": "stdout",
     "output_type": "stream",
     "text": [
      "Model: \"sequential\"\n",
      "_________________________________________________________________\n",
      "Layer (type)                 Output Shape              Param #   \n",
      "=================================================================\n",
      "dense (Dense)                (None, 10)                80        \n",
      "_________________________________________________________________\n",
      "dense_1 (Dense)              (None, 1)                 11        \n",
      "=================================================================\n",
      "Total params: 91\n",
      "Trainable params: 91\n",
      "Non-trainable params: 0\n",
      "_________________________________________________________________\n"
     ]
    }
   ],
   "source": [
    "# get model\n",
    "model = get_neural_network(num_features)\n",
    "model.summary()"
   ]
  },
  {
   "cell_type": "code",
   "execution_count": 20,
   "metadata": {},
   "outputs": [
    {
     "name": "stdout",
     "output_type": "stream",
     "text": [
      "15/15 [==============================] - 0s 1ms/step - loss: 0.0081 - mse: 0.0053\n"
     ]
    }
   ],
   "source": [
    "# train model\n",
    "model, history, results = train(model, train_features, train_labels, test_features, test_labels)"
   ]
  },
  {
   "cell_type": "code",
   "execution_count": 21,
   "metadata": {},
   "outputs": [
    {
     "name": "stdout",
     "output_type": "stream",
     "text": [
      "test loss: 0.0081, test mse: 0.0053\n",
      "number of epochs to reach minimum test error: 6550\n"
     ]
    }
   ],
   "source": [
    "# check evaluation scores\n",
    "print_results(results)"
   ]
  },
  {
   "cell_type": "code",
   "execution_count": 22,
   "metadata": {},
   "outputs": [
    {
     "data": {
      "image/png": "[encoded data removed]",
      "text/plain": [
       "<Figure size 1728x432 with 2 Axes>"
      ]
     },
     "metadata": {
      "needs_background": "light"
     },
     "output_type": "display_data"
    }
   ],
   "source": [
    "plot_loss_accuracy_curves(results['num_epochs'], history, 'output/b_1a.png')\n",
    "\n",
    "del results\n",
    "del history"
   ]
  },
  {
   "cell_type": "markdown",
   "metadata": {},
   "source": [
    "c) Plot the predicted values and target values for any 50 test samples."
   ]
  },
  {
   "cell_type": "code",
   "execution_count": 23,
   "metadata": {},
   "outputs": [
    {
     "data": {
      "text/html": [
       "<div>\n",
       "<style scoped>\n",
       "    .dataframe tbody tr th:only-of-type {\n",
       "        vertical-align: middle;\n",
       "    }\n",
       "\n",
       "    .dataframe tbody tr th {\n",
       "        vertical-align: top;\n",
       "    }\n",
       "\n",
       "    .dataframe thead th {\n",
       "        text-align: right;\n",
       "    }\n",
       "</style>\n",
       "<table border=\"1\" class=\"dataframe\">\n",
       "  <thead>\n",
       "    <tr style=\"text-align: right;\">\n",
       "      <th></th>\n",
       "      <th>0</th>\n",
       "      <th>1</th>\n",
       "      <th>2</th>\n",
       "      <th>3</th>\n",
       "      <th>4</th>\n",
       "      <th>5</th>\n",
       "      <th>6</th>\n",
       "    </tr>\n",
       "  </thead>\n",
       "  <tbody>\n",
       "    <tr>\n",
       "      <th>132</th>\n",
       "      <td>-0.681325</td>\n",
       "      <td>-0.397564</td>\n",
       "      <td>1.674257</td>\n",
       "      <td>0.099442</td>\n",
       "      <td>0.052933</td>\n",
       "      <td>-0.065357</td>\n",
       "      <td>-1.099975</td>\n",
       "    </tr>\n",
       "    <tr>\n",
       "      <th>309</th>\n",
       "      <td>-0.768590</td>\n",
       "      <td>0.427257</td>\n",
       "      <td>0.798829</td>\n",
       "      <td>0.099442</td>\n",
       "      <td>-0.504260</td>\n",
       "      <td>0.001805</td>\n",
       "      <td>-1.099975</td>\n",
       "    </tr>\n",
       "    <tr>\n",
       "      <th>341</th>\n",
       "      <td>0.802187</td>\n",
       "      <td>0.427257</td>\n",
       "      <td>-0.076600</td>\n",
       "      <td>0.099442</td>\n",
       "      <td>0.052933</td>\n",
       "      <td>0.270455</td>\n",
       "      <td>0.909112</td>\n",
       "    </tr>\n",
       "    <tr>\n",
       "      <th>196</th>\n",
       "      <td>-0.943121</td>\n",
       "      <td>-0.397564</td>\n",
       "      <td>-0.952029</td>\n",
       "      <td>-0.397769</td>\n",
       "      <td>-1.061454</td>\n",
       "      <td>-0.569076</td>\n",
       "      <td>-1.099975</td>\n",
       "    </tr>\n",
       "    <tr>\n",
       "      <th>246</th>\n",
       "      <td>-0.070467</td>\n",
       "      <td>-0.397564</td>\n",
       "      <td>-0.076600</td>\n",
       "      <td>-0.397769</td>\n",
       "      <td>0.052933</td>\n",
       "      <td>0.220083</td>\n",
       "      <td>-1.099975</td>\n",
       "    </tr>\n",
       "  </tbody>\n",
       "</table>\n",
       "</div>"
      ],
      "text/plain": [
       "            0         1         2         3         4         5         6\n",
       "132 -0.681325 -0.397564  1.674257  0.099442  0.052933 -0.065357 -1.099975\n",
       "309 -0.768590  0.427257  0.798829  0.099442 -0.504260  0.001805 -1.099975\n",
       "341  0.802187  0.427257 -0.076600  0.099442  0.052933  0.270455  0.909112\n",
       "196 -0.943121 -0.397564 -0.952029 -0.397769 -1.061454 -0.569076 -1.099975\n",
       "246 -0.070467 -0.397564 -0.076600 -0.397769  0.052933  0.220083 -1.099975"
      ]
     },
     "execution_count": 23,
     "metadata": {},
     "output_type": "execute_result"
    }
   ],
   "source": [
    "test_features.head()"
   ]
  },
  {
   "cell_type": "code",
   "execution_count": 24,
   "metadata": {},
   "outputs": [
    {
     "data": {
      "text/plain": [
       "132    0.71\n",
       "309    0.70\n",
       "341    0.79\n",
       "196    0.73\n",
       "246    0.72\n",
       "Name: Chance of Admit, dtype: float64"
      ]
     },
     "execution_count": 24,
     "metadata": {},
     "output_type": "execute_result"
    }
   ],
   "source": [
    "test_labels.head()"
   ]
  },
  {
   "cell_type": "code",
   "execution_count": 25,
   "metadata": {},
   "outputs": [],
   "source": [
    "# get sample indices\n",
    "sample_indices = random.sample(range(len(test_labels)), 50)"
   ]
  },
  {
   "cell_type": "code",
   "execution_count": 26,
   "metadata": {},
   "outputs": [
    {
     "data": {
      "text/html": [
       "<div>\n",
       "<style scoped>\n",
       "    .dataframe tbody tr th:only-of-type {\n",
       "        vertical-align: middle;\n",
       "    }\n",
       "\n",
       "    .dataframe tbody tr th {\n",
       "        vertical-align: top;\n",
       "    }\n",
       "\n",
       "    .dataframe thead th {\n",
       "        text-align: right;\n",
       "    }\n",
       "</style>\n",
       "<table border=\"1\" class=\"dataframe\">\n",
       "  <thead>\n",
       "    <tr style=\"text-align: right;\">\n",
       "      <th></th>\n",
       "      <th>0</th>\n",
       "      <th>1</th>\n",
       "      <th>2</th>\n",
       "      <th>3</th>\n",
       "      <th>4</th>\n",
       "      <th>5</th>\n",
       "      <th>6</th>\n",
       "    </tr>\n",
       "  </thead>\n",
       "  <tbody>\n",
       "    <tr>\n",
       "      <th>153</th>\n",
       "      <td>0.627656</td>\n",
       "      <td>-0.397564</td>\n",
       "      <td>-0.076600</td>\n",
       "      <td>-0.397769</td>\n",
       "      <td>0.610127</td>\n",
       "      <td>0.253664</td>\n",
       "      <td>-1.099975</td>\n",
       "    </tr>\n",
       "    <tr>\n",
       "      <th>233</th>\n",
       "      <td>-1.117652</td>\n",
       "      <td>-1.222385</td>\n",
       "      <td>-0.952029</td>\n",
       "      <td>-0.894980</td>\n",
       "      <td>0.052933</td>\n",
       "      <td>-0.888097</td>\n",
       "      <td>-1.099975</td>\n",
       "    </tr>\n",
       "    <tr>\n",
       "      <th>390</th>\n",
       "      <td>-0.244998</td>\n",
       "      <td>-0.892456</td>\n",
       "      <td>-0.952029</td>\n",
       "      <td>-1.392191</td>\n",
       "      <td>-1.061454</td>\n",
       "      <td>-0.602657</td>\n",
       "      <td>-1.099975</td>\n",
       "    </tr>\n",
       "    <tr>\n",
       "      <th>21</th>\n",
       "      <td>0.714922</td>\n",
       "      <td>1.087114</td>\n",
       "      <td>0.798829</td>\n",
       "      <td>-0.397769</td>\n",
       "      <td>-1.618648</td>\n",
       "      <td>-0.334007</td>\n",
       "      <td>-1.099975</td>\n",
       "    </tr>\n",
       "    <tr>\n",
       "      <th>171</th>\n",
       "      <td>1.500310</td>\n",
       "      <td>1.582006</td>\n",
       "      <td>1.674257</td>\n",
       "      <td>0.596653</td>\n",
       "      <td>1.167321</td>\n",
       "      <td>0.790963</td>\n",
       "      <td>0.909112</td>\n",
       "    </tr>\n",
       "  </tbody>\n",
       "</table>\n",
       "</div>"
      ],
      "text/plain": [
       "            0         1         2         3         4         5         6\n",
       "153  0.627656 -0.397564 -0.076600 -0.397769  0.610127  0.253664 -1.099975\n",
       "233 -1.117652 -1.222385 -0.952029 -0.894980  0.052933 -0.888097 -1.099975\n",
       "390 -0.244998 -0.892456 -0.952029 -1.392191 -1.061454 -0.602657 -1.099975\n",
       "21   0.714922  1.087114  0.798829 -0.397769 -1.618648 -0.334007 -1.099975\n",
       "171  1.500310  1.582006  1.674257  0.596653  1.167321  0.790963  0.909112"
      ]
     },
     "execution_count": 26,
     "metadata": {},
     "output_type": "execute_result"
    }
   ],
   "source": [
    "# get sample of the test features\n",
    "test_features_sample = test_features.iloc[sample_indices]\n",
    "test_features_sample.head()"
   ]
  },
  {
   "cell_type": "code",
   "execution_count": 27,
   "metadata": {},
   "outputs": [
    {
     "data": {
      "text/plain": [
       "153    0.79\n",
       "233    0.64\n",
       "390    0.64\n",
       "21     0.70\n",
       "171    0.89\n",
       "Name: Chance of Admit, dtype: float64"
      ]
     },
     "execution_count": 27,
     "metadata": {},
     "output_type": "execute_result"
    }
   ],
   "source": [
    "# get sample of the test labels\n",
    "test_labels_sample = test_labels.iloc[sample_indices]\n",
    "test_labels_sample.head()"
   ]
  },
  {
   "cell_type": "code",
   "execution_count": 28,
   "metadata": {},
   "outputs": [],
   "source": [
    "predictions = model.predict(test_features_sample, batch_size=batch_size)"
   ]
  },
  {
   "cell_type": "code",
   "execution_count": 29,
   "metadata": {},
   "outputs": [
    {
     "data": {
      "image/png": "[encoded data removed]",
      "text/plain": [
       "<Figure size 432x288 with 1 Axes>"
      ]
     },
     "metadata": {
      "needs_background": "light"
     },
     "output_type": "display_data"
    }
   ],
   "source": [
    "# process values for plotting\n",
    "test_label_list = test_labels_sample.tolist()\n",
    "prediction_list = predictions.flatten().tolist()\n",
    "\n",
    "# sort by ground truth values first to see if there is any pattern / trend\n",
    "sorted_values = sorted(zip(test_label_list, prediction_list))\n",
    "\n",
    "sorted_test_labels = []\n",
    "sorted_predictions = []\n",
    "\n",
    "for test_label, prediction in sorted_values:\n",
    "    sorted_test_labels.append(test_label)\n",
    "    sorted_predictions.append(prediction)\n",
    "    \n",
    "plt.title('ground truth vs predicted values')\n",
    "plt.scatter(range(len(sorted_values)), sorted_test_labels, label='ground truth')\n",
    "plt.scatter(range(len(sorted_values)), sorted_predictions, label='predictions')\n",
    "plt.legend()\n",
    "plt.xticks([])  # disable x-ticks because it is not meaningful here\n",
    "plt.ylabel('admission probability')\n",
    "\n",
    "plt.savefig('output/b_1c.png')"
   ]
  },
  {
   "cell_type": "markdown",
   "metadata": {},
   "source": [
    "Looks like the model tend to underestimate the probability of admission. Also, the model seems to predict the admission probability more accurately (shorter distance between predicted and ground truth values)when admission probability is high."
   ]
  },
  {
   "cell_type": "markdown",
   "metadata": {},
   "source": [
    "2. Recursive feature elimination (RFE) is a feature selection method that removes unnecessary features from the inputs. Start by removing one input feature that causes the minimum drop (or maximum improvement) in performance. Repeat the procedure recursively on the reduced input set until the optimal number of input features is reached. Remove the features one at a time. Compare the accuracy of the model with all input features, with models using 6 input features and 5 input features selected using RFE. Comment on the observations."
   ]
  },
  {
   "cell_type": "code",
   "execution_count": 30,
   "metadata": {},
   "outputs": [
    {
     "name": "stdout",
     "output_type": "stream",
     "text": [
      "\n"
     ]
    }
   ],
   "source": [
    "# use RFE with cross validation to get optimal number of features\n",
    "\n",
    "# reference: https://stackoverflow.com/a/50200699/9171260\n",
    "# linear regression is probably most related\n",
    "\n",
    "rfecv = RFECV(LinearRegression(), step=1)  # remove features one at a time\n",
    "rfecv.fit(train_features, train_labels)\n",
    "print()  # no need to print anything after doing RFECV"
   ]
  },
  {
   "cell_type": "code",
   "execution_count": 31,
   "metadata": {},
   "outputs": [
    {
     "name": "stdout",
     "output_type": "stream",
     "text": [
      "optimal number of input features: 5\n"
     ]
    }
   ],
   "source": [
    "optimal_num_features = int(rfecv.n_features_)\n",
    "print(f'optimal number of input features: {optimal_num_features}')"
   ]
  },
  {
   "cell_type": "code",
   "execution_count": 32,
   "metadata": {},
   "outputs": [
    {
     "name": "stdout",
     "output_type": "stream",
     "text": [
      "optimal features indices: [0 1 4 5 6]\n"
     ]
    }
   ],
   "source": [
    "optimal_indices = rfecv.get_support(indices=True)\n",
    "print(f'optimal features indices: {optimal_indices}')"
   ]
  },
  {
   "cell_type": "markdown",
   "metadata": {},
   "source": [
    "Looks like University Rating and SOP are less important factors when considering applicant for Master programs."
   ]
  },
  {
   "cell_type": "code",
   "execution_count": 33,
   "metadata": {},
   "outputs": [],
   "source": [
    "# get optimal features\n",
    "optimal_train_features = train_features[optimal_indices]\n",
    "optimal_test_features = test_features[optimal_indices]"
   ]
  },
  {
   "cell_type": "code",
   "execution_count": 34,
   "metadata": {},
   "outputs": [
    {
     "name": "stdout",
     "output_type": "stream",
     "text": [
      "Model: \"sequential_1\"\n",
      "_________________________________________________________________\n",
      "Layer (type)                 Output Shape              Param #   \n",
      "=================================================================\n",
      "dense_2 (Dense)              (None, 10)                60        \n",
      "_________________________________________________________________\n",
      "dense_3 (Dense)              (None, 1)                 11        \n",
      "=================================================================\n",
      "Total params: 71\n",
      "Trainable params: 71\n",
      "Non-trainable params: 0\n",
      "_________________________________________________________________\n"
     ]
    }
   ],
   "source": [
    "# get model\n",
    "model = get_neural_network(optimal_num_features)\n",
    "model.summary()"
   ]
  },
  {
   "cell_type": "code",
   "execution_count": 35,
   "metadata": {},
   "outputs": [
    {
     "name": "stdout",
     "output_type": "stream",
     "text": [
      "15/15 [==============================] - 0s 1ms/step - loss: 0.0065 - mse: 0.0047\n"
     ]
    }
   ],
   "source": [
    "# train model\n",
    "model, history, results = train(\n",
    "    model,\n",
    "    optimal_train_features,\n",
    "    train_labels,\n",
    "    optimal_test_features,\n",
    "    test_labels,\n",
    ")\n",
    "\n",
    "del model"
   ]
  },
  {
   "cell_type": "code",
   "execution_count": 36,
   "metadata": {},
   "outputs": [
    {
     "name": "stdout",
     "output_type": "stream",
     "text": [
      "test loss: 0.0065, test mse: 0.0047\n",
      "number of epochs to reach minimum test error: 8950\n"
     ]
    }
   ],
   "source": [
    "# check evaluation scores\n",
    "print_results(results)"
   ]
  },
  {
   "cell_type": "code",
   "execution_count": 37,
   "metadata": {},
   "outputs": [
    {
     "data": {
      "image/png": "[encoded data removed]",
      "text/plain": [
       "<Figure size 1728x432 with 2 Axes>"
      ]
     },
     "metadata": {
      "needs_background": "light"
     },
     "output_type": "display_data"
    }
   ],
   "source": [
    "plot_loss_accuracy_curves(results['num_epochs'], history, 'output/b_2_1.png')\n",
    "\n",
    "del results\n",
    "del history"
   ]
  },
  {
   "cell_type": "code",
   "execution_count": 53,
   "metadata": {},
   "outputs": [
    {
     "name": "stdout",
     "output_type": "stream",
     "text": [
      "selected features indices: [0 1 3 4 5 6]\n"
     ]
    }
   ],
   "source": [
    "# do the same thing for 6 features\n",
    "rfecv = RFECV(LinearRegression(), step=1, min_features_to_select=6)\n",
    "rfecv.fit(train_features, train_labels)\n",
    "\n",
    "selected_indices = rfecv.get_support(indices=True)\n",
    "print(f'selected features indices: {selected_indices}')"
   ]
  },
  {
   "cell_type": "code",
   "execution_count": 39,
   "metadata": {},
   "outputs": [],
   "source": [
    "# get selected features\n",
    "selected_train_features = train_features[selected_indices]\n",
    "selected_test_features = test_features[selected_indices]"
   ]
  },
  {
   "cell_type": "code",
   "execution_count": 40,
   "metadata": {},
   "outputs": [
    {
     "name": "stdout",
     "output_type": "stream",
     "text": [
      "Model: \"sequential_2\"\n",
      "_________________________________________________________________\n",
      "Layer (type)                 Output Shape              Param #   \n",
      "=================================================================\n",
      "dense_4 (Dense)              (None, 10)                70        \n",
      "_________________________________________________________________\n",
      "dense_5 (Dense)              (None, 1)                 11        \n",
      "=================================================================\n",
      "Total params: 81\n",
      "Trainable params: 81\n",
      "Non-trainable params: 0\n",
      "_________________________________________________________________\n"
     ]
    }
   ],
   "source": [
    "# get model\n",
    "model = get_neural_network(num_features=6)\n",
    "model.summary()"
   ]
  },
  {
   "cell_type": "code",
   "execution_count": 41,
   "metadata": {},
   "outputs": [
    {
     "name": "stdout",
     "output_type": "stream",
     "text": [
      "15/15 [==============================] - 0s 1ms/step - loss: 0.0060 - mse: 0.0048\n"
     ]
    }
   ],
   "source": [
    "# train model\n",
    "model, history, results = train(\n",
    "    model,\n",
    "    selected_train_features,\n",
    "    train_labels,\n",
    "    selected_test_features,\n",
    "    test_labels,\n",
    ")\n",
    "\n",
    "del model"
   ]
  },
  {
   "cell_type": "code",
   "execution_count": 42,
   "metadata": {},
   "outputs": [
    {
     "name": "stdout",
     "output_type": "stream",
     "text": [
      "test loss: 0.0060, test mse: 0.0048\n",
      "number of epochs to reach minimum test error: 12300\n"
     ]
    }
   ],
   "source": [
    "# check evaluation scores\n",
    "print_results(results)"
   ]
  },
  {
   "cell_type": "code",
   "execution_count": 43,
   "metadata": {},
   "outputs": [
    {
     "data": {
      "image/png": "[encoded data removed]",
      "text/plain": [
       "<Figure size 1728x432 with 2 Axes>"
      ]
     },
     "metadata": {
      "needs_background": "light"
     },
     "output_type": "display_data"
    }
   ],
   "source": [
    "plot_loss_accuracy_curves(results['num_epochs'], history, 'output/b_2_2.png')\n",
    "\n",
    "del results\n",
    "del history"
   ]
  },
  {
   "cell_type": "markdown",
   "metadata": {},
   "source": [
    "### Comparison of training on 5, 6, or 7 (all) features\n",
    "\n",
    "\\\\|5 features (optimal)| 6 features| 7 (all) features\n",
    "-|-|-|-\n",
    "loss|0.0065|0.0060|0.0081\n",
    "mean squared error|0.0047|0.0048|0.0053\n",
    "number of trainable parameters|71|81|91\n",
    "number of epochs|8950|12300|6550"
   ]
  },
  {
   "cell_type": "markdown",
   "metadata": {},
   "source": [
    "3. Design a four-layer neural network and a five-layer neural network, with the hidden layers having 50 neurons each. Use a learning rate of 10<sup>-3</sup> for all layers and optimal feature set selected in part (3).  \n",
    "Introduce dropouts (with a keep probability of 0.8) to the layers and report the accuracies. Compare the performances of all the networks (with and without dropouts) with each other and with the 3-layer network."
   ]
  },
  {
   "cell_type": "code",
   "execution_count": 44,
   "metadata": {},
   "outputs": [],
   "source": [
    "# params and configs\n",
    "num_hidden_neurons = 50\n",
    "# no change in learning_rate (10**-3)\n",
    "dropout_keep_probability = 0.8"
   ]
  },
  {
   "cell_type": "code",
   "execution_count": 45,
   "metadata": {},
   "outputs": [
    {
     "name": "stdout",
     "output_type": "stream",
     "text": [
      "Model: \"sequential_3\"\n",
      "_________________________________________________________________\n",
      "Layer (type)                 Output Shape              Param #   \n",
      "=================================================================\n",
      "dense_6 (Dense)              (None, 50)                300       \n",
      "_________________________________________________________________\n",
      "dense_7 (Dense)              (None, 50)                2550      \n",
      "_________________________________________________________________\n",
      "dense_8 (Dense)              (None, 1)                 51        \n",
      "=================================================================\n",
      "Total params: 2,901\n",
      "Trainable params: 2,901\n",
      "Non-trainable params: 0\n",
      "_________________________________________________________________\n"
     ]
    }
   ],
   "source": [
    "# get model (4 layers, no dropout)\n",
    "model = get_neural_network(\n",
    "    optimal_num_features,\n",
    "    num_hidden_layers=2,\n",
    "    num_hidden_neurons=num_hidden_neurons,\n",
    ")\n",
    "\n",
    "model.summary()"
   ]
  },
  {
   "cell_type": "code",
   "execution_count": 46,
   "metadata": {},
   "outputs": [
    {
     "name": "stdout",
     "output_type": "stream",
     "text": [
      "15/15 [==============================] - 0s 1ms/step - loss: 0.0384 - mse: 0.0050\n",
      "test loss: 0.0384, test mse: 0.0050\n",
      "number of epochs to reach minimum test error: 4100\n"
     ]
    },
    {
     "data": {
      "image/png": "[encoded data removed]",
      "text/plain": [
       "<Figure size 1728x432 with 2 Axes>"
      ]
     },
     "metadata": {
      "needs_background": "light"
     },
     "output_type": "display_data"
    }
   ],
   "source": [
    "# train model\n",
    "model, history, results = train(\n",
    "    model,\n",
    "    optimal_train_features,\n",
    "    train_labels,\n",
    "    optimal_test_features,\n",
    "    test_labels,\n",
    ")\n",
    "\n",
    "del model\n",
    "\n",
    "# check evaluation scores\n",
    "print_results(results)\n",
    "\n",
    "plot_loss_accuracy_curves(results['num_epochs'], history, 'output/b_3_1.png')\n",
    "\n",
    "del results\n",
    "del history"
   ]
  },
  {
   "cell_type": "code",
   "execution_count": 47,
   "metadata": {},
   "outputs": [
    {
     "name": "stdout",
     "output_type": "stream",
     "text": [
      "Model: \"sequential_4\"\n",
      "_________________________________________________________________\n",
      "Layer (type)                 Output Shape              Param #   \n",
      "=================================================================\n",
      "dense_9 (Dense)              (None, 50)                300       \n",
      "_________________________________________________________________\n",
      "dropout (Dropout)            (None, 50)                0         \n",
      "_________________________________________________________________\n",
      "dense_10 (Dense)             (None, 50)                2550      \n",
      "_________________________________________________________________\n",
      "dropout_1 (Dropout)          (None, 50)                0         \n",
      "_________________________________________________________________\n",
      "dense_11 (Dense)             (None, 1)                 51        \n",
      "=================================================================\n",
      "Total params: 2,901\n",
      "Trainable params: 2,901\n",
      "Non-trainable params: 0\n",
      "_________________________________________________________________\n"
     ]
    }
   ],
   "source": [
    "# get model (4 layers, dropout)\n",
    "model = get_neural_network(\n",
    "    optimal_num_features,\n",
    "    num_hidden_layers=2,\n",
    "    num_hidden_neurons=num_hidden_neurons,\n",
    "    dropout_rate=(1 - dropout_keep_probability),\n",
    ")\n",
    "\n",
    "model.summary()"
   ]
  },
  {
   "cell_type": "code",
   "execution_count": 48,
   "metadata": {},
   "outputs": [
    {
     "name": "stdout",
     "output_type": "stream",
     "text": [
      "15/15 [==============================] - 0s 1ms/step - loss: 0.0556 - mse: 0.0051\n",
      "test loss: 0.0556, test mse: 0.0051\n",
      "number of epochs to reach minimum test error: 750\n"
     ]
    },
    {
     "data": {
      "image/png": "[encoded data removed]",
      "text/plain": [
       "<Figure size 1728x432 with 2 Axes>"
      ]
     },
     "metadata": {
      "needs_background": "light"
     },
     "output_type": "display_data"
    }
   ],
   "source": [
    "# train model\n",
    "model, history, results = train(\n",
    "    model,\n",
    "    optimal_train_features,\n",
    "    train_labels,\n",
    "    optimal_test_features,\n",
    "    test_labels,\n",
    ")\n",
    "\n",
    "del model\n",
    "\n",
    "# check evaluation scores\n",
    "print_results(results)\n",
    "\n",
    "plot_loss_accuracy_curves(results['num_epochs'], history, 'output/b_3_2.png')\n",
    "\n",
    "del results\n",
    "del history"
   ]
  },
  {
   "cell_type": "code",
   "execution_count": 49,
   "metadata": {},
   "outputs": [
    {
     "name": "stdout",
     "output_type": "stream",
     "text": [
      "Model: \"sequential_5\"\n",
      "_________________________________________________________________\n",
      "Layer (type)                 Output Shape              Param #   \n",
      "=================================================================\n",
      "dense_12 (Dense)             (None, 50)                300       \n",
      "_________________________________________________________________\n",
      "dense_13 (Dense)             (None, 50)                2550      \n",
      "_________________________________________________________________\n",
      "dense_14 (Dense)             (None, 50)                2550      \n",
      "_________________________________________________________________\n",
      "dense_15 (Dense)             (None, 1)                 51        \n",
      "=================================================================\n",
      "Total params: 5,451\n",
      "Trainable params: 5,451\n",
      "Non-trainable params: 0\n",
      "_________________________________________________________________\n"
     ]
    }
   ],
   "source": [
    "# get model (5 layers, no dropout)\n",
    "model = get_neural_network(\n",
    "    optimal_num_features,\n",
    "    num_hidden_layers=3,\n",
    "    num_hidden_neurons=num_hidden_neurons,\n",
    ")\n",
    "\n",
    "model.summary()"
   ]
  },
  {
   "cell_type": "code",
   "execution_count": 50,
   "metadata": {},
   "outputs": [
    {
     "name": "stdout",
     "output_type": "stream",
     "text": [
      "15/15 [==============================] - 0s 1ms/step - loss: 0.0221 - mse: 0.0048\n",
      "test loss: 0.0221, test mse: 0.0048\n",
      "number of epochs to reach minimum test error: 13850\n"
     ]
    },
    {
     "data": {
      "image/png": "[encoded data removed]",
      "text/plain": [
       "<Figure size 1728x432 with 2 Axes>"
      ]
     },
     "metadata": {
      "needs_background": "light"
     },
     "output_type": "display_data"
    }
   ],
   "source": [
    "# train model\n",
    "model, history, results = train(\n",
    "    model,\n",
    "    optimal_train_features,\n",
    "    train_labels,\n",
    "    optimal_test_features,\n",
    "    test_labels,\n",
    ")\n",
    "\n",
    "del model\n",
    "\n",
    "# check evaluation scores\n",
    "print_results(results)\n",
    "\n",
    "plot_loss_accuracy_curves(results['num_epochs'], history, 'output/b_3_3.png')\n",
    "\n",
    "del results\n",
    "del history"
   ]
  },
  {
   "cell_type": "code",
   "execution_count": 51,
   "metadata": {},
   "outputs": [
    {
     "name": "stdout",
     "output_type": "stream",
     "text": [
      "Model: \"sequential_6\"\n",
      "_________________________________________________________________\n",
      "Layer (type)                 Output Shape              Param #   \n",
      "=================================================================\n",
      "dense_16 (Dense)             (None, 50)                300       \n",
      "_________________________________________________________________\n",
      "dropout_2 (Dropout)          (None, 50)                0         \n",
      "_________________________________________________________________\n",
      "dense_17 (Dense)             (None, 50)                2550      \n",
      "_________________________________________________________________\n",
      "dropout_3 (Dropout)          (None, 50)                0         \n",
      "_________________________________________________________________\n",
      "dense_18 (Dense)             (None, 50)                2550      \n",
      "_________________________________________________________________\n",
      "dropout_4 (Dropout)          (None, 50)                0         \n",
      "_________________________________________________________________\n",
      "dense_19 (Dense)             (None, 1)                 51        \n",
      "=================================================================\n",
      "Total params: 5,451\n",
      "Trainable params: 5,451\n",
      "Non-trainable params: 0\n",
      "_________________________________________________________________\n"
     ]
    }
   ],
   "source": [
    "# get model (5 layers, dropout)\n",
    "model = get_neural_network(\n",
    "    optimal_num_features,\n",
    "    num_hidden_layers=3,\n",
    "    num_hidden_neurons=num_hidden_neurons,\n",
    "    dropout_rate=(1 - dropout_keep_probability),\n",
    ")\n",
    "\n",
    "model.summary()"
   ]
  },
  {
   "cell_type": "code",
   "execution_count": 52,
   "metadata": {},
   "outputs": [
    {
     "name": "stdout",
     "output_type": "stream",
     "text": [
      "15/15 [==============================] - 0s 1ms/step - loss: 0.0932 - mse: 0.0059\n",
      "test loss: 0.0932, test mse: 0.0059\n",
      "number of epochs to reach minimum test error: 1450\n"
     ]
    },
    {
     "data": {
      "image/png": "[encoded data removed]",
      "text/plain": [
       "<Figure size 1728x432 with 2 Axes>"
      ]
     },
     "metadata": {
      "needs_background": "light"
     },
     "output_type": "display_data"
    }
   ],
   "source": [
    "# train model\n",
    "model, history, results = train(\n",
    "    model,\n",
    "    optimal_train_features,\n",
    "    train_labels,\n",
    "    optimal_test_features,\n",
    "    test_labels,\n",
    ")\n",
    "\n",
    "del model\n",
    "\n",
    "# check evaluation scores\n",
    "print_results(results)\n",
    "\n",
    "plot_loss_accuracy_curves(results['num_epochs'], history, 'output/b_3_4.png')\n",
    "\n",
    "del results\n",
    "del history"
   ]
  },
  {
   "cell_type": "markdown",
   "metadata": {},
   "source": [
    "## Comparisons\n",
    "\n",
    "### 4 layers, no dropout vs dropout\n",
    "\n",
    "\\\\|no dropout|dropout\n",
    "-|-|-\n",
    "loss|0.0384|0.0556\n",
    "mean squared error|0.0050|0.0051\n",
    "number of trainable params|2901|2901\n",
    "number of epochs|4100|750\n",
    "\n",
    "### 5 layers, no dropout vs dropout\n",
    "\n",
    "\\\\|no dropout|dropout\n",
    "-|-|-\n",
    "loss|0.0221|0.0932\n",
    "mean squared error|0.0048|0.0059\n",
    "number of trainable params|5451|5451\n",
    "number of epochs|13850|1450\n",
    "\n",
    "### no dropout, 3 layers (10 neurons) vs 4 layers (50 neurons) vs 5 layers (50 neurons)\n",
    "\n",
    "\\\\|3 layers|4 layers|5 layers\n",
    "-|-|-|-\n",
    "loss|0.0065|0.0384|0.0221\n",
    "mean squared error|0.0047|0.0050|0.0048\n",
    "number of trainable params|71|2901|5451\n",
    "number of epochs|8950|4100|13850\n",
    "\n",
    "### dropout, 4 layers vs 5 layers\n",
    "\n",
    "\\\\|4 layers|5 layers\n",
    "-|-|-\n",
    "loss|0.0556|0.0932\n",
    "mean squared error|0.0051|0.0059\n",
    "number of trainable params|2901|5451\n",
    "number of epochs|750|1450"
   ]
  }
 ],
 "metadata": {
  "kernelspec": {
   "display_name": "Python 3.8.3 64-bit ('ai_venv')",
   "language": "python",
   "name": "python38364bitaivenv118f08e36cf84beba32e8b69d70cc570"
  },
  "language_info": {
   "codemirror_mode": {
    "name": "ipython",
    "version": 3
   },
   "file_extension": ".py",
   "mimetype": "text/x-python",
   "name": "python",
   "nbconvert_exporter": "python",
   "pygments_lexer": "ipython3",
   "version": "3.8.3"
  }
 },
 "nbformat": 4,
 "nbformat_minor": 4
}
